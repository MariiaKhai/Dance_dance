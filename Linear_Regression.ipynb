{
  "nbformat": 4,
  "nbformat_minor": 0,
  "metadata": {
    "colab": {
      "name": "Linear_Regression.ipynb",
      "provenance": [],
      "collapsed_sections": [],
      "authorship_tag": "ABX9TyNGB7sDs+im0eGlk/upuDk8",
      "include_colab_link": true
    },
    "kernelspec": {
      "name": "python3",
      "display_name": "Python 3"
    },
    "language_info": {
      "name": "python"
    }
  },
  "cells": [
    {
      "cell_type": "markdown",
      "metadata": {
        "id": "view-in-github",
        "colab_type": "text"
      },
      "source": [
        "<a href=\"https://colab.research.google.com/github/MariiaKhai/Dance_dance/blob/master/Linear_Regression.ipynb\" target=\"_parent\"><img src=\"https://colab.research.google.com/assets/colab-badge.svg\" alt=\"Open In Colab\"/></a>"
      ]
    },
    {
      "cell_type": "markdown",
      "source": [
        "У цьому прикладі ми використовуємо набір даних, що документують ціни на житло в районі Pacific Heights в Сан-Франциско, і використовуємо просту та множинну лінійні регресії, щоб передбачити, за якою ціною буде продавати житло з урахуванням кількості кімнат, площі та інших факторів."
      ],
      "metadata": {
        "id": "03KaXLklh2Gr"
      }
    },
    {
      "cell_type": "code",
      "source": [
        "import pandas as pd\n",
        "import matplotlib.pyplot as plt\n",
        "import seaborn as sns\n",
        "\n",
        "sns.set()\n",
        "%matplotlib inline"
      ],
      "metadata": {
        "id": "bFd85nRkdhId"
      },
      "execution_count": 9,
      "outputs": []
    },
    {
      "cell_type": "code",
      "source": [
        "df = pd.read_csv('pacific-heights.csv')\n",
        "df.head()"
      ],
      "metadata": {
        "colab": {
          "base_uri": "https://localhost:8080/",
          "height": 426
        },
        "id": "3MXWAK-liYuD",
        "outputId": "48165461-e76f-4022-b697-3453005da38f"
      },
      "execution_count": 13,
      "outputs": [
        {
          "output_type": "execute_result",
          "data": {
            "text/plain": [
              "                      address  bathrooms  bedrooms  finishedsqft lastsolddate  \\\n",
              "0            2243 Franklin St        2.0         2          1463     2/5/2016   \n",
              "1      2002 Pacific Ave APT 4        3.5         3          3291    1/22/2016   \n",
              "2  1945 Washington St APT 411        1.0         1           653   12/16/2015   \n",
              "3    1896 Pacific Ave APT 802        2.5         2          2272   12/17/2014   \n",
              "4  1840 Washington St APT 603        1.0         1           837    12/2/2015   \n",
              "\n",
              "   lastsoldprice   latitude   longitude     neighborhood  totalrooms  \\\n",
              "0        1950000  37.795139 -122.425309  Pacific Heights           7   \n",
              "1        4200000  37.794429 -122.428513  Pacific Heights           7   \n",
              "2         665000  37.792472 -122.425281  Pacific Heights           3   \n",
              "3        2735000  37.794706 -122.426347  Pacific Heights           6   \n",
              "4        1050000  37.793212 -122.423744  Pacific Heights           3   \n",
              "\n",
              "       usecode  yearbuilt  zipcode  \n",
              "0  Condominium       1900    94109  \n",
              "1  Condominium       1961    94109  \n",
              "2  Condominium       1987    94109  \n",
              "3  Condominium       1924    94109  \n",
              "4  Condominium       2012    94109  "
            ],
            "text/html": [
              "\n",
              "  <div id=\"df-46df1167-d071-4709-afee-235728bce8d8\">\n",
              "    <div class=\"colab-df-container\">\n",
              "      <div>\n",
              "<style scoped>\n",
              "    .dataframe tbody tr th:only-of-type {\n",
              "        vertical-align: middle;\n",
              "    }\n",
              "\n",
              "    .dataframe tbody tr th {\n",
              "        vertical-align: top;\n",
              "    }\n",
              "\n",
              "    .dataframe thead th {\n",
              "        text-align: right;\n",
              "    }\n",
              "</style>\n",
              "<table border=\"1\" class=\"dataframe\">\n",
              "  <thead>\n",
              "    <tr style=\"text-align: right;\">\n",
              "      <th></th>\n",
              "      <th>address</th>\n",
              "      <th>bathrooms</th>\n",
              "      <th>bedrooms</th>\n",
              "      <th>finishedsqft</th>\n",
              "      <th>lastsolddate</th>\n",
              "      <th>lastsoldprice</th>\n",
              "      <th>latitude</th>\n",
              "      <th>longitude</th>\n",
              "      <th>neighborhood</th>\n",
              "      <th>totalrooms</th>\n",
              "      <th>usecode</th>\n",
              "      <th>yearbuilt</th>\n",
              "      <th>zipcode</th>\n",
              "    </tr>\n",
              "  </thead>\n",
              "  <tbody>\n",
              "    <tr>\n",
              "      <th>0</th>\n",
              "      <td>2243 Franklin St</td>\n",
              "      <td>2.0</td>\n",
              "      <td>2</td>\n",
              "      <td>1463</td>\n",
              "      <td>2/5/2016</td>\n",
              "      <td>1950000</td>\n",
              "      <td>37.795139</td>\n",
              "      <td>-122.425309</td>\n",
              "      <td>Pacific Heights</td>\n",
              "      <td>7</td>\n",
              "      <td>Condominium</td>\n",
              "      <td>1900</td>\n",
              "      <td>94109</td>\n",
              "    </tr>\n",
              "    <tr>\n",
              "      <th>1</th>\n",
              "      <td>2002 Pacific Ave APT 4</td>\n",
              "      <td>3.5</td>\n",
              "      <td>3</td>\n",
              "      <td>3291</td>\n",
              "      <td>1/22/2016</td>\n",
              "      <td>4200000</td>\n",
              "      <td>37.794429</td>\n",
              "      <td>-122.428513</td>\n",
              "      <td>Pacific Heights</td>\n",
              "      <td>7</td>\n",
              "      <td>Condominium</td>\n",
              "      <td>1961</td>\n",
              "      <td>94109</td>\n",
              "    </tr>\n",
              "    <tr>\n",
              "      <th>2</th>\n",
              "      <td>1945 Washington St APT 411</td>\n",
              "      <td>1.0</td>\n",
              "      <td>1</td>\n",
              "      <td>653</td>\n",
              "      <td>12/16/2015</td>\n",
              "      <td>665000</td>\n",
              "      <td>37.792472</td>\n",
              "      <td>-122.425281</td>\n",
              "      <td>Pacific Heights</td>\n",
              "      <td>3</td>\n",
              "      <td>Condominium</td>\n",
              "      <td>1987</td>\n",
              "      <td>94109</td>\n",
              "    </tr>\n",
              "    <tr>\n",
              "      <th>3</th>\n",
              "      <td>1896 Pacific Ave APT 802</td>\n",
              "      <td>2.5</td>\n",
              "      <td>2</td>\n",
              "      <td>2272</td>\n",
              "      <td>12/17/2014</td>\n",
              "      <td>2735000</td>\n",
              "      <td>37.794706</td>\n",
              "      <td>-122.426347</td>\n",
              "      <td>Pacific Heights</td>\n",
              "      <td>6</td>\n",
              "      <td>Condominium</td>\n",
              "      <td>1924</td>\n",
              "      <td>94109</td>\n",
              "    </tr>\n",
              "    <tr>\n",
              "      <th>4</th>\n",
              "      <td>1840 Washington St APT 603</td>\n",
              "      <td>1.0</td>\n",
              "      <td>1</td>\n",
              "      <td>837</td>\n",
              "      <td>12/2/2015</td>\n",
              "      <td>1050000</td>\n",
              "      <td>37.793212</td>\n",
              "      <td>-122.423744</td>\n",
              "      <td>Pacific Heights</td>\n",
              "      <td>3</td>\n",
              "      <td>Condominium</td>\n",
              "      <td>2012</td>\n",
              "      <td>94109</td>\n",
              "    </tr>\n",
              "  </tbody>\n",
              "</table>\n",
              "</div>\n",
              "      <button class=\"colab-df-convert\" onclick=\"convertToInteractive('df-46df1167-d071-4709-afee-235728bce8d8')\"\n",
              "              title=\"Convert this dataframe to an interactive table.\"\n",
              "              style=\"display:none;\">\n",
              "        \n",
              "  <svg xmlns=\"http://www.w3.org/2000/svg\" height=\"24px\"viewBox=\"0 0 24 24\"\n",
              "       width=\"24px\">\n",
              "    <path d=\"M0 0h24v24H0V0z\" fill=\"none\"/>\n",
              "    <path d=\"M18.56 5.44l.94 2.06.94-2.06 2.06-.94-2.06-.94-.94-2.06-.94 2.06-2.06.94zm-11 1L8.5 8.5l.94-2.06 2.06-.94-2.06-.94L8.5 2.5l-.94 2.06-2.06.94zm10 10l.94 2.06.94-2.06 2.06-.94-2.06-.94-.94-2.06-.94 2.06-2.06.94z\"/><path d=\"M17.41 7.96l-1.37-1.37c-.4-.4-.92-.59-1.43-.59-.52 0-1.04.2-1.43.59L10.3 9.45l-7.72 7.72c-.78.78-.78 2.05 0 2.83L4 21.41c.39.39.9.59 1.41.59.51 0 1.02-.2 1.41-.59l7.78-7.78 2.81-2.81c.8-.78.8-2.07 0-2.86zM5.41 20L4 18.59l7.72-7.72 1.47 1.35L5.41 20z\"/>\n",
              "  </svg>\n",
              "      </button>\n",
              "      \n",
              "  <style>\n",
              "    .colab-df-container {\n",
              "      display:flex;\n",
              "      flex-wrap:wrap;\n",
              "      gap: 12px;\n",
              "    }\n",
              "\n",
              "    .colab-df-convert {\n",
              "      background-color: #E8F0FE;\n",
              "      border: none;\n",
              "      border-radius: 50%;\n",
              "      cursor: pointer;\n",
              "      display: none;\n",
              "      fill: #1967D2;\n",
              "      height: 32px;\n",
              "      padding: 0 0 0 0;\n",
              "      width: 32px;\n",
              "    }\n",
              "\n",
              "    .colab-df-convert:hover {\n",
              "      background-color: #E2EBFA;\n",
              "      box-shadow: 0px 1px 2px rgba(60, 64, 67, 0.3), 0px 1px 3px 1px rgba(60, 64, 67, 0.15);\n",
              "      fill: #174EA6;\n",
              "    }\n",
              "\n",
              "    [theme=dark] .colab-df-convert {\n",
              "      background-color: #3B4455;\n",
              "      fill: #D2E3FC;\n",
              "    }\n",
              "\n",
              "    [theme=dark] .colab-df-convert:hover {\n",
              "      background-color: #434B5C;\n",
              "      box-shadow: 0px 1px 3px 1px rgba(0, 0, 0, 0.15);\n",
              "      filter: drop-shadow(0px 1px 2px rgba(0, 0, 0, 0.3));\n",
              "      fill: #FFFFFF;\n",
              "    }\n",
              "  </style>\n",
              "\n",
              "      <script>\n",
              "        const buttonEl =\n",
              "          document.querySelector('#df-46df1167-d071-4709-afee-235728bce8d8 button.colab-df-convert');\n",
              "        buttonEl.style.display =\n",
              "          google.colab.kernel.accessAllowed ? 'block' : 'none';\n",
              "\n",
              "        async function convertToInteractive(key) {\n",
              "          const element = document.querySelector('#df-46df1167-d071-4709-afee-235728bce8d8');\n",
              "          const dataTable =\n",
              "            await google.colab.kernel.invokeFunction('convertToInteractive',\n",
              "                                                     [key], {});\n",
              "          if (!dataTable) return;\n",
              "\n",
              "          const docLinkHtml = 'Like what you see? Visit the ' +\n",
              "            '<a target=\"_blank\" href=https://colab.research.google.com/notebooks/data_table.ipynb>data table notebook</a>'\n",
              "            + ' to learn more about interactive tables.';\n",
              "          element.innerHTML = '';\n",
              "          dataTable['output_type'] = 'display_data';\n",
              "          await google.colab.output.renderOutput(dataTable, element);\n",
              "          const docLink = document.createElement('div');\n",
              "          docLink.innerHTML = docLinkHtml;\n",
              "          element.appendChild(docLink);\n",
              "        }\n",
              "      </script>\n",
              "    </div>\n",
              "  </div>\n",
              "  "
            ]
          },
          "metadata": {},
          "execution_count": 13
        }
      ]
    },
    {
      "cell_type": "code",
      "source": [
        "df.shape"
      ],
      "metadata": {
        "colab": {
          "base_uri": "https://localhost:8080/"
        },
        "id": "2yu_wvAch1RP",
        "outputId": "6f206d18-9003-4ba8-b2f1-b4a6a8c03c88"
      },
      "execution_count": 15,
      "outputs": [
        {
          "output_type": "execute_result",
          "data": {
            "text/plain": [
              "(439, 13)"
            ]
          },
          "metadata": {},
          "execution_count": 15
        }
      ]
    },
    {
      "cell_type": "code",
      "source": [
        "df.info()"
      ],
      "metadata": {
        "colab": {
          "base_uri": "https://localhost:8080/"
        },
        "id": "CabzIFgsrh7C",
        "outputId": "52974dea-efd3-4817-a1f8-26ef5d4cd8a8"
      },
      "execution_count": 16,
      "outputs": [
        {
          "output_type": "stream",
          "name": "stdout",
          "text": [
            "<class 'pandas.core.frame.DataFrame'>\n",
            "RangeIndex: 439 entries, 0 to 438\n",
            "Data columns (total 13 columns):\n",
            " #   Column         Non-Null Count  Dtype  \n",
            "---  ------         --------------  -----  \n",
            " 0   address        439 non-null    object \n",
            " 1   bathrooms      439 non-null    float64\n",
            " 2   bedrooms       439 non-null    int64  \n",
            " 3   finishedsqft   439 non-null    int64  \n",
            " 4   lastsolddate   439 non-null    object \n",
            " 5   lastsoldprice  439 non-null    int64  \n",
            " 6   latitude       439 non-null    float64\n",
            " 7   longitude      439 non-null    float64\n",
            " 8   neighborhood   439 non-null    object \n",
            " 9   totalrooms     439 non-null    int64  \n",
            " 10  usecode        439 non-null    object \n",
            " 11  yearbuilt      439 non-null    int64  \n",
            " 12  zipcode        439 non-null    int64  \n",
            "dtypes: float64(3), int64(6), object(4)\n",
            "memory usage: 44.7+ KB\n"
          ]
        }
      ]
    },
    {
      "cell_type": "code",
      "source": [
        "corr_matrix= df.corr()\n",
        "corr_matrix['lastsoldprice'].sort_values(ascending=False)"
      ],
      "metadata": {
        "colab": {
          "base_uri": "https://localhost:8080/"
        },
        "id": "ajzoztWLrqQx",
        "outputId": "eff401b7-05cd-4c6c-e6ed-8749fa86a93d"
      },
      "execution_count": 21,
      "outputs": [
        {
          "output_type": "execute_result",
          "data": {
            "text/plain": [
              "lastsoldprice    1.000000\n",
              "finishedsqft     0.840864\n",
              "bathrooms        0.768179\n",
              "totalrooms       0.670726\n",
              "bedrooms         0.606579\n",
              "zipcode          0.296032\n",
              "latitude         0.126480\n",
              "yearbuilt       -0.214365\n",
              "longitude       -0.309462\n",
              "Name: lastsoldprice, dtype: float64"
            ]
          },
          "metadata": {},
          "execution_count": 21
        }
      ]
    },
    {
      "cell_type": "markdown",
      "source": [
        "бачимо лінійну кореляцію з наступними факторами \n",
        "finishedsqft,   bathrooms,   totalrooms,    bedrooms   "
      ],
      "metadata": {
        "id": "v47ihSwHsX0e"
      }
    },
    {
      "cell_type": "code",
      "source": [
        "df = df[['bathrooms', 'bedrooms', 'finishedsqft', 'totalrooms', 'usecode', 'zipcode', 'lastsoldprice']]\n",
        "df = pd.get_dummies(df, columns=['usecode', 'zipcode'])\n",
        "df.head()"
      ],
      "metadata": {
        "colab": {
          "base_uri": "https://localhost:8080/",
          "height": 270
        },
        "id": "0iE0NgEOsU1Y",
        "outputId": "fad87ebb-f2d5-4c9e-93e4-bd00bc2067e9"
      },
      "execution_count": 22,
      "outputs": [
        {
          "output_type": "execute_result",
          "data": {
            "text/plain": [
              "   bathrooms  bedrooms  finishedsqft  totalrooms  lastsoldprice  \\\n",
              "0        2.0         2          1463           7        1950000   \n",
              "1        3.5         3          3291           7        4200000   \n",
              "2        1.0         1           653           3         665000   \n",
              "3        2.5         2          2272           6        2735000   \n",
              "4        1.0         1           837           3        1050000   \n",
              "\n",
              "   usecode_Condominium  usecode_Cooperative  usecode_Duplex  \\\n",
              "0                    1                    0               0   \n",
              "1                    1                    0               0   \n",
              "2                    1                    0               0   \n",
              "3                    1                    0               0   \n",
              "4                    1                    0               0   \n",
              "\n",
              "   usecode_MultiFamily2To4  usecode_SingleFamily  usecode_Townhouse  \\\n",
              "0                        0                     0                  0   \n",
              "1                        0                     0                  0   \n",
              "2                        0                     0                  0   \n",
              "3                        0                     0                  0   \n",
              "4                        0                     0                  0   \n",
              "\n",
              "   zipcode_94109  zipcode_94115  zipcode_94123  \n",
              "0              1              0              0  \n",
              "1              1              0              0  \n",
              "2              1              0              0  \n",
              "3              1              0              0  \n",
              "4              1              0              0  "
            ],
            "text/html": [
              "\n",
              "  <div id=\"df-16908915-b004-4080-99a4-63891da9b70c\">\n",
              "    <div class=\"colab-df-container\">\n",
              "      <div>\n",
              "<style scoped>\n",
              "    .dataframe tbody tr th:only-of-type {\n",
              "        vertical-align: middle;\n",
              "    }\n",
              "\n",
              "    .dataframe tbody tr th {\n",
              "        vertical-align: top;\n",
              "    }\n",
              "\n",
              "    .dataframe thead th {\n",
              "        text-align: right;\n",
              "    }\n",
              "</style>\n",
              "<table border=\"1\" class=\"dataframe\">\n",
              "  <thead>\n",
              "    <tr style=\"text-align: right;\">\n",
              "      <th></th>\n",
              "      <th>bathrooms</th>\n",
              "      <th>bedrooms</th>\n",
              "      <th>finishedsqft</th>\n",
              "      <th>totalrooms</th>\n",
              "      <th>lastsoldprice</th>\n",
              "      <th>usecode_Condominium</th>\n",
              "      <th>usecode_Cooperative</th>\n",
              "      <th>usecode_Duplex</th>\n",
              "      <th>usecode_MultiFamily2To4</th>\n",
              "      <th>usecode_SingleFamily</th>\n",
              "      <th>usecode_Townhouse</th>\n",
              "      <th>zipcode_94109</th>\n",
              "      <th>zipcode_94115</th>\n",
              "      <th>zipcode_94123</th>\n",
              "    </tr>\n",
              "  </thead>\n",
              "  <tbody>\n",
              "    <tr>\n",
              "      <th>0</th>\n",
              "      <td>2.0</td>\n",
              "      <td>2</td>\n",
              "      <td>1463</td>\n",
              "      <td>7</td>\n",
              "      <td>1950000</td>\n",
              "      <td>1</td>\n",
              "      <td>0</td>\n",
              "      <td>0</td>\n",
              "      <td>0</td>\n",
              "      <td>0</td>\n",
              "      <td>0</td>\n",
              "      <td>1</td>\n",
              "      <td>0</td>\n",
              "      <td>0</td>\n",
              "    </tr>\n",
              "    <tr>\n",
              "      <th>1</th>\n",
              "      <td>3.5</td>\n",
              "      <td>3</td>\n",
              "      <td>3291</td>\n",
              "      <td>7</td>\n",
              "      <td>4200000</td>\n",
              "      <td>1</td>\n",
              "      <td>0</td>\n",
              "      <td>0</td>\n",
              "      <td>0</td>\n",
              "      <td>0</td>\n",
              "      <td>0</td>\n",
              "      <td>1</td>\n",
              "      <td>0</td>\n",
              "      <td>0</td>\n",
              "    </tr>\n",
              "    <tr>\n",
              "      <th>2</th>\n",
              "      <td>1.0</td>\n",
              "      <td>1</td>\n",
              "      <td>653</td>\n",
              "      <td>3</td>\n",
              "      <td>665000</td>\n",
              "      <td>1</td>\n",
              "      <td>0</td>\n",
              "      <td>0</td>\n",
              "      <td>0</td>\n",
              "      <td>0</td>\n",
              "      <td>0</td>\n",
              "      <td>1</td>\n",
              "      <td>0</td>\n",
              "      <td>0</td>\n",
              "    </tr>\n",
              "    <tr>\n",
              "      <th>3</th>\n",
              "      <td>2.5</td>\n",
              "      <td>2</td>\n",
              "      <td>2272</td>\n",
              "      <td>6</td>\n",
              "      <td>2735000</td>\n",
              "      <td>1</td>\n",
              "      <td>0</td>\n",
              "      <td>0</td>\n",
              "      <td>0</td>\n",
              "      <td>0</td>\n",
              "      <td>0</td>\n",
              "      <td>1</td>\n",
              "      <td>0</td>\n",
              "      <td>0</td>\n",
              "    </tr>\n",
              "    <tr>\n",
              "      <th>4</th>\n",
              "      <td>1.0</td>\n",
              "      <td>1</td>\n",
              "      <td>837</td>\n",
              "      <td>3</td>\n",
              "      <td>1050000</td>\n",
              "      <td>1</td>\n",
              "      <td>0</td>\n",
              "      <td>0</td>\n",
              "      <td>0</td>\n",
              "      <td>0</td>\n",
              "      <td>0</td>\n",
              "      <td>1</td>\n",
              "      <td>0</td>\n",
              "      <td>0</td>\n",
              "    </tr>\n",
              "  </tbody>\n",
              "</table>\n",
              "</div>\n",
              "      <button class=\"colab-df-convert\" onclick=\"convertToInteractive('df-16908915-b004-4080-99a4-63891da9b70c')\"\n",
              "              title=\"Convert this dataframe to an interactive table.\"\n",
              "              style=\"display:none;\">\n",
              "        \n",
              "  <svg xmlns=\"http://www.w3.org/2000/svg\" height=\"24px\"viewBox=\"0 0 24 24\"\n",
              "       width=\"24px\">\n",
              "    <path d=\"M0 0h24v24H0V0z\" fill=\"none\"/>\n",
              "    <path d=\"M18.56 5.44l.94 2.06.94-2.06 2.06-.94-2.06-.94-.94-2.06-.94 2.06-2.06.94zm-11 1L8.5 8.5l.94-2.06 2.06-.94-2.06-.94L8.5 2.5l-.94 2.06-2.06.94zm10 10l.94 2.06.94-2.06 2.06-.94-2.06-.94-.94-2.06-.94 2.06-2.06.94z\"/><path d=\"M17.41 7.96l-1.37-1.37c-.4-.4-.92-.59-1.43-.59-.52 0-1.04.2-1.43.59L10.3 9.45l-7.72 7.72c-.78.78-.78 2.05 0 2.83L4 21.41c.39.39.9.59 1.41.59.51 0 1.02-.2 1.41-.59l7.78-7.78 2.81-2.81c.8-.78.8-2.07 0-2.86zM5.41 20L4 18.59l7.72-7.72 1.47 1.35L5.41 20z\"/>\n",
              "  </svg>\n",
              "      </button>\n",
              "      \n",
              "  <style>\n",
              "    .colab-df-container {\n",
              "      display:flex;\n",
              "      flex-wrap:wrap;\n",
              "      gap: 12px;\n",
              "    }\n",
              "\n",
              "    .colab-df-convert {\n",
              "      background-color: #E8F0FE;\n",
              "      border: none;\n",
              "      border-radius: 50%;\n",
              "      cursor: pointer;\n",
              "      display: none;\n",
              "      fill: #1967D2;\n",
              "      height: 32px;\n",
              "      padding: 0 0 0 0;\n",
              "      width: 32px;\n",
              "    }\n",
              "\n",
              "    .colab-df-convert:hover {\n",
              "      background-color: #E2EBFA;\n",
              "      box-shadow: 0px 1px 2px rgba(60, 64, 67, 0.3), 0px 1px 3px 1px rgba(60, 64, 67, 0.15);\n",
              "      fill: #174EA6;\n",
              "    }\n",
              "\n",
              "    [theme=dark] .colab-df-convert {\n",
              "      background-color: #3B4455;\n",
              "      fill: #D2E3FC;\n",
              "    }\n",
              "\n",
              "    [theme=dark] .colab-df-convert:hover {\n",
              "      background-color: #434B5C;\n",
              "      box-shadow: 0px 1px 3px 1px rgba(0, 0, 0, 0.15);\n",
              "      filter: drop-shadow(0px 1px 2px rgba(0, 0, 0, 0.3));\n",
              "      fill: #FFFFFF;\n",
              "    }\n",
              "  </style>\n",
              "\n",
              "      <script>\n",
              "        const buttonEl =\n",
              "          document.querySelector('#df-16908915-b004-4080-99a4-63891da9b70c button.colab-df-convert');\n",
              "        buttonEl.style.display =\n",
              "          google.colab.kernel.accessAllowed ? 'block' : 'none';\n",
              "\n",
              "        async function convertToInteractive(key) {\n",
              "          const element = document.querySelector('#df-16908915-b004-4080-99a4-63891da9b70c');\n",
              "          const dataTable =\n",
              "            await google.colab.kernel.invokeFunction('convertToInteractive',\n",
              "                                                     [key], {});\n",
              "          if (!dataTable) return;\n",
              "\n",
              "          const docLinkHtml = 'Like what you see? Visit the ' +\n",
              "            '<a target=\"_blank\" href=https://colab.research.google.com/notebooks/data_table.ipynb>data table notebook</a>'\n",
              "            + ' to learn more about interactive tables.';\n",
              "          element.innerHTML = '';\n",
              "          dataTable['output_type'] = 'display_data';\n",
              "          await google.colab.output.renderOutput(dataTable, element);\n",
              "          const docLink = document.createElement('div');\n",
              "          docLink.innerHTML = docLinkHtml;\n",
              "          element.appendChild(docLink);\n",
              "        }\n",
              "      </script>\n",
              "    </div>\n",
              "  </div>\n",
              "  "
            ]
          },
          "metadata": {},
          "execution_count": 22
        }
      ]
    },
    {
      "cell_type": "code",
      "source": [
        "import scipy\n",
        "stat, p = scipy.stats.shapiro(df['lastsoldprice']) \n",
        "print('Statistics=%.3f, p-value=%.3f' % (stat, p))\n",
        "stat, p = scipy.stats.shapiro(df['totalrooms']) \n",
        "print('Statistics=%.3f, p-value=%.3f' % (stat, p))"
      ],
      "metadata": {
        "colab": {
          "base_uri": "https://localhost:8080/"
        },
        "id": "VPRpFtaPveEI",
        "outputId": "d2241909-28a7-435b-fc52-fed448e48009"
      },
      "execution_count": 40,
      "outputs": [
        {
          "output_type": "stream",
          "name": "stdout",
          "text": [
            "Statistics=0.655, p-value=0.000\n",
            "Statistics=0.765, p-value=0.000\n"
          ]
        }
      ]
    },
    {
      "cell_type": "code",
      "source": [
        "df['totalrooms'].corr(df['lastsoldprice'], method='spearman')"
      ],
      "metadata": {
        "colab": {
          "base_uri": "https://localhost:8080/"
        },
        "id": "vY_fGODvz109",
        "outputId": "b6c4cddd-bfe7-4176-baaf-0c4decea0f9b"
      },
      "execution_count": 41,
      "outputs": [
        {
          "output_type": "execute_result",
          "data": {
            "text/plain": [
              "0.8445443142850304"
            ]
          },
          "metadata": {},
          "execution_count": 41
        }
      ]
    },
    {
      "cell_type": "code",
      "source": [
        "corr_matrix= df.corr(method='spearman')\n",
        "corr_matrix['lastsoldprice'].sort_values(ascending=False)"
      ],
      "metadata": {
        "colab": {
          "base_uri": "https://localhost:8080/"
        },
        "id": "cdX5oOJos7Io",
        "outputId": "98fc9e62-1df3-4274-95f4-843236d369f1"
      },
      "execution_count": 42,
      "outputs": [
        {
          "output_type": "execute_result",
          "data": {
            "text/plain": [
              "lastsoldprice           1.000000\n",
              "finishedsqft            0.892991\n",
              "totalrooms              0.844544\n",
              "bedrooms                0.831959\n",
              "bathrooms               0.808215\n",
              "usecode_SingleFamily    0.588875\n",
              "zipcode_94123           0.255782\n",
              "zipcode_94115           0.146984\n",
              "zipcode_94109          -0.345002\n",
              "usecode_Condominium    -0.560659\n",
              "Name: lastsoldprice, dtype: float64"
            ]
          },
          "metadata": {},
          "execution_count": 42
        }
      ]
    },
    {
      "cell_type": "markdown",
      "source": [
        "usecode_Condominium   досить сильно впливає на ціну квартири"
      ],
      "metadata": {
        "id": "IdbSeBF8tHgg"
      }
    },
    {
      "cell_type": "code",
      "source": [
        "df = df.drop(['usecode_Duplex', 'usecode_MultiFamily2To4', 'usecode_Townhouse', 'usecode_Cooperative'], axis=1)\n",
        "df.head()"
      ],
      "metadata": {
        "colab": {
          "base_uri": "https://localhost:8080/",
          "height": 270
        },
        "id": "b7VmuXn-tNCP",
        "outputId": "9b7208a3-4e5c-4c26-e8b1-ab678024e899"
      },
      "execution_count": 24,
      "outputs": [
        {
          "output_type": "execute_result",
          "data": {
            "text/plain": [
              "   bathrooms  bedrooms  finishedsqft  totalrooms  lastsoldprice  \\\n",
              "0        2.0         2          1463           7        1950000   \n",
              "1        3.5         3          3291           7        4200000   \n",
              "2        1.0         1           653           3         665000   \n",
              "3        2.5         2          2272           6        2735000   \n",
              "4        1.0         1           837           3        1050000   \n",
              "\n",
              "   usecode_Condominium  usecode_SingleFamily  zipcode_94109  zipcode_94115  \\\n",
              "0                    1                     0              1              0   \n",
              "1                    1                     0              1              0   \n",
              "2                    1                     0              1              0   \n",
              "3                    1                     0              1              0   \n",
              "4                    1                     0              1              0   \n",
              "\n",
              "   zipcode_94123  \n",
              "0              0  \n",
              "1              0  \n",
              "2              0  \n",
              "3              0  \n",
              "4              0  "
            ],
            "text/html": [
              "\n",
              "  <div id=\"df-4245cdf3-8578-4932-8e54-280f3f0b6120\">\n",
              "    <div class=\"colab-df-container\">\n",
              "      <div>\n",
              "<style scoped>\n",
              "    .dataframe tbody tr th:only-of-type {\n",
              "        vertical-align: middle;\n",
              "    }\n",
              "\n",
              "    .dataframe tbody tr th {\n",
              "        vertical-align: top;\n",
              "    }\n",
              "\n",
              "    .dataframe thead th {\n",
              "        text-align: right;\n",
              "    }\n",
              "</style>\n",
              "<table border=\"1\" class=\"dataframe\">\n",
              "  <thead>\n",
              "    <tr style=\"text-align: right;\">\n",
              "      <th></th>\n",
              "      <th>bathrooms</th>\n",
              "      <th>bedrooms</th>\n",
              "      <th>finishedsqft</th>\n",
              "      <th>totalrooms</th>\n",
              "      <th>lastsoldprice</th>\n",
              "      <th>usecode_Condominium</th>\n",
              "      <th>usecode_SingleFamily</th>\n",
              "      <th>zipcode_94109</th>\n",
              "      <th>zipcode_94115</th>\n",
              "      <th>zipcode_94123</th>\n",
              "    </tr>\n",
              "  </thead>\n",
              "  <tbody>\n",
              "    <tr>\n",
              "      <th>0</th>\n",
              "      <td>2.0</td>\n",
              "      <td>2</td>\n",
              "      <td>1463</td>\n",
              "      <td>7</td>\n",
              "      <td>1950000</td>\n",
              "      <td>1</td>\n",
              "      <td>0</td>\n",
              "      <td>1</td>\n",
              "      <td>0</td>\n",
              "      <td>0</td>\n",
              "    </tr>\n",
              "    <tr>\n",
              "      <th>1</th>\n",
              "      <td>3.5</td>\n",
              "      <td>3</td>\n",
              "      <td>3291</td>\n",
              "      <td>7</td>\n",
              "      <td>4200000</td>\n",
              "      <td>1</td>\n",
              "      <td>0</td>\n",
              "      <td>1</td>\n",
              "      <td>0</td>\n",
              "      <td>0</td>\n",
              "    </tr>\n",
              "    <tr>\n",
              "      <th>2</th>\n",
              "      <td>1.0</td>\n",
              "      <td>1</td>\n",
              "      <td>653</td>\n",
              "      <td>3</td>\n",
              "      <td>665000</td>\n",
              "      <td>1</td>\n",
              "      <td>0</td>\n",
              "      <td>1</td>\n",
              "      <td>0</td>\n",
              "      <td>0</td>\n",
              "    </tr>\n",
              "    <tr>\n",
              "      <th>3</th>\n",
              "      <td>2.5</td>\n",
              "      <td>2</td>\n",
              "      <td>2272</td>\n",
              "      <td>6</td>\n",
              "      <td>2735000</td>\n",
              "      <td>1</td>\n",
              "      <td>0</td>\n",
              "      <td>1</td>\n",
              "      <td>0</td>\n",
              "      <td>0</td>\n",
              "    </tr>\n",
              "    <tr>\n",
              "      <th>4</th>\n",
              "      <td>1.0</td>\n",
              "      <td>1</td>\n",
              "      <td>837</td>\n",
              "      <td>3</td>\n",
              "      <td>1050000</td>\n",
              "      <td>1</td>\n",
              "      <td>0</td>\n",
              "      <td>1</td>\n",
              "      <td>0</td>\n",
              "      <td>0</td>\n",
              "    </tr>\n",
              "  </tbody>\n",
              "</table>\n",
              "</div>\n",
              "      <button class=\"colab-df-convert\" onclick=\"convertToInteractive('df-4245cdf3-8578-4932-8e54-280f3f0b6120')\"\n",
              "              title=\"Convert this dataframe to an interactive table.\"\n",
              "              style=\"display:none;\">\n",
              "        \n",
              "  <svg xmlns=\"http://www.w3.org/2000/svg\" height=\"24px\"viewBox=\"0 0 24 24\"\n",
              "       width=\"24px\">\n",
              "    <path d=\"M0 0h24v24H0V0z\" fill=\"none\"/>\n",
              "    <path d=\"M18.56 5.44l.94 2.06.94-2.06 2.06-.94-2.06-.94-.94-2.06-.94 2.06-2.06.94zm-11 1L8.5 8.5l.94-2.06 2.06-.94-2.06-.94L8.5 2.5l-.94 2.06-2.06.94zm10 10l.94 2.06.94-2.06 2.06-.94-2.06-.94-.94-2.06-.94 2.06-2.06.94z\"/><path d=\"M17.41 7.96l-1.37-1.37c-.4-.4-.92-.59-1.43-.59-.52 0-1.04.2-1.43.59L10.3 9.45l-7.72 7.72c-.78.78-.78 2.05 0 2.83L4 21.41c.39.39.9.59 1.41.59.51 0 1.02-.2 1.41-.59l7.78-7.78 2.81-2.81c.8-.78.8-2.07 0-2.86zM5.41 20L4 18.59l7.72-7.72 1.47 1.35L5.41 20z\"/>\n",
              "  </svg>\n",
              "      </button>\n",
              "      \n",
              "  <style>\n",
              "    .colab-df-container {\n",
              "      display:flex;\n",
              "      flex-wrap:wrap;\n",
              "      gap: 12px;\n",
              "    }\n",
              "\n",
              "    .colab-df-convert {\n",
              "      background-color: #E8F0FE;\n",
              "      border: none;\n",
              "      border-radius: 50%;\n",
              "      cursor: pointer;\n",
              "      display: none;\n",
              "      fill: #1967D2;\n",
              "      height: 32px;\n",
              "      padding: 0 0 0 0;\n",
              "      width: 32px;\n",
              "    }\n",
              "\n",
              "    .colab-df-convert:hover {\n",
              "      background-color: #E2EBFA;\n",
              "      box-shadow: 0px 1px 2px rgba(60, 64, 67, 0.3), 0px 1px 3px 1px rgba(60, 64, 67, 0.15);\n",
              "      fill: #174EA6;\n",
              "    }\n",
              "\n",
              "    [theme=dark] .colab-df-convert {\n",
              "      background-color: #3B4455;\n",
              "      fill: #D2E3FC;\n",
              "    }\n",
              "\n",
              "    [theme=dark] .colab-df-convert:hover {\n",
              "      background-color: #434B5C;\n",
              "      box-shadow: 0px 1px 3px 1px rgba(0, 0, 0, 0.15);\n",
              "      filter: drop-shadow(0px 1px 2px rgba(0, 0, 0, 0.3));\n",
              "      fill: #FFFFFF;\n",
              "    }\n",
              "  </style>\n",
              "\n",
              "      <script>\n",
              "        const buttonEl =\n",
              "          document.querySelector('#df-4245cdf3-8578-4932-8e54-280f3f0b6120 button.colab-df-convert');\n",
              "        buttonEl.style.display =\n",
              "          google.colab.kernel.accessAllowed ? 'block' : 'none';\n",
              "\n",
              "        async function convertToInteractive(key) {\n",
              "          const element = document.querySelector('#df-4245cdf3-8578-4932-8e54-280f3f0b6120');\n",
              "          const dataTable =\n",
              "            await google.colab.kernel.invokeFunction('convertToInteractive',\n",
              "                                                     [key], {});\n",
              "          if (!dataTable) return;\n",
              "\n",
              "          const docLinkHtml = 'Like what you see? Visit the ' +\n",
              "            '<a target=\"_blank\" href=https://colab.research.google.com/notebooks/data_table.ipynb>data table notebook</a>'\n",
              "            + ' to learn more about interactive tables.';\n",
              "          element.innerHTML = '';\n",
              "          dataTable['output_type'] = 'display_data';\n",
              "          await google.colab.output.renderOutput(dataTable, element);\n",
              "          const docLink = document.createElement('div');\n",
              "          docLink.innerHTML = docLinkHtml;\n",
              "          element.appendChild(docLink);\n",
              "        }\n",
              "      </script>\n",
              "    </div>\n",
              "  </div>\n",
              "  "
            ]
          },
          "metadata": {},
          "execution_count": 24
        }
      ]
    },
    {
      "cell_type": "markdown",
      "source": [
        "Будуємо діаграму розсіювання"
      ],
      "metadata": {
        "id": "ddL97AaTvMb6"
      }
    },
    {
      "cell_type": "code",
      "source": [
        "x = df['totalrooms']\n",
        "y = df['lastsoldprice']\n",
        "\n",
        "plt.scatter(x, y)\n",
        "plt.xlabel('Total rooms')\n",
        "plt.ylabel('Price of apartments')"
      ],
      "metadata": {
        "colab": {
          "base_uri": "https://localhost:8080/",
          "height": 314
        },
        "id": "EgKpqaj5t4Tn",
        "outputId": "851c4f78-941d-4611-d933-e032deda59d7"
      },
      "execution_count": 29,
      "outputs": [
        {
          "output_type": "execute_result",
          "data": {
            "text/plain": [
              "Text(0, 0.5, 'Price of apartments')"
            ]
          },
          "metadata": {},
          "execution_count": 29
        },
        {
          "output_type": "display_data",
          "data": {
            "text/plain": [
              "<Figure size 432x288 with 1 Axes>"
            ],
            "image/png": "[encoded data removed]"
          },
          "metadata": {
            "needs_background": "light"
          }
        }
      ]
    },
    {
      "cell_type": "markdown",
      "source": [
        "Використовуємо пакет pairplot для візуалізації зв'язків"
      ],
      "metadata": {
        "id": "rgBYhKxwtY25"
      }
    },
    {
      "cell_type": "code",
      "source": [
        "sns.pairplot(df[['bathrooms', 'bedrooms', 'finishedsqft', 'totalrooms', 'lastsoldprice']])"
      ],
      "metadata": {
        "colab": {
          "base_uri": "https://localhost:8080/",
          "height": 920
        },
        "id": "zF8-ibTCtU5h",
        "outputId": "c549f128-a868-46ce-dd3f-4f652d162e13"
      },
      "execution_count": 26,
      "outputs": [
        {
          "output_type": "execute_result",
          "data": {
            "text/plain": [
              "<seaborn.axisgrid.PairGrid at 0x7f3e768d2650>"
            ]
          },
          "metadata": {},
          "execution_count": 26
        },
        {
          "output_type": "display_data",
          "data": {
            "text/plain": [
              "<Figure size 900x900 with 30 Axes>"
            ],
            "image/png": "[encoded data removed]"
          },
          "metadata": {
            "needs_background": "light"
          }
        }
      ]
    },
    {
      "cell_type": "markdown",
      "source": [
        "Перевірка змінних на відповідність нормальному закону розподілу за тестом Шапіро-Уілкса"
      ],
      "metadata": {
        "id": "riN9IlVyvg1w"
      }
    },
    {
      "cell_type": "code",
      "source": [
        ""
      ],
      "metadata": {
        "id": "pBimT0VHvf9P"
      },
      "execution_count": null,
      "outputs": []
    }
  ]
}