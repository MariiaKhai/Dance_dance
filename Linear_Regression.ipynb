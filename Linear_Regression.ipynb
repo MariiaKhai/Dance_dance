{
  "nbformat": 4,
  "nbformat_minor": 0,
  "metadata": {
    "colab": {
      "name": "Linear_Regression.ipynb",
      "provenance": [],
      "collapsed_sections": [],
      "authorship_tag": "ABX9TyNQUihf7fWjn4j/5gxWvDnX",
      "include_colab_link": true
    },
    "kernelspec": {
      "name": "python3",
      "display_name": "Python 3"
    },
    "language_info": {
      "name": "python"
    }
  },
  "cells": [
    {
      "cell_type": "markdown",
      "metadata": {
        "id": "view-in-github",
        "colab_type": "text"
      },
      "source": [
        "<a href=\"https://colab.research.google.com/github/MariiaKhai/Dance_dance/blob/master/Linear_Regression.ipynb\" target=\"_parent\"><img src=\"https://colab.research.google.com/assets/colab-badge.svg\" alt=\"Open In Colab\"/></a>"
      ]
    },
    {
      "cell_type": "markdown",
      "source": [
        "У цьому прикладі ми використовуємо набір даних, що документують ціни на житло в районі Pacific Heights в Сан-Франциско, і використовуємо просту та множинну лінійні регресії, щоб передбачити, за якою ціною буде продавати житло з урахуванням кількості кімнат, площі та інших факторів."
      ],
      "metadata": {
        "id": "03KaXLklh2Gr"
      }
    },
    {
      "cell_type": "code",
      "source": [
        "import pandas as pd\n",
        "import matplotlib.pyplot as plt\n",
        "import seaborn as sns\n",
        "import numpy as np\n",
        "\n",
        "\n",
        "sns.set()\n",
        "%matplotlib inline"
      ],
      "metadata": {
        "id": "bFd85nRkdhId"
      },
      "execution_count": 1,
      "outputs": []
    },
    {
      "cell_type": "code",
      "source": [
        "df = pd.read_csv('pacific-heights.csv')\n",
        "df.head()"
      ],
      "metadata": {
        "colab": {
          "base_uri": "https://localhost:8080/",
          "height": 426
        },
        "id": "3MXWAK-liYuD",
        "outputId": "1899c697-6454-48e3-9fe9-8793fe49d6ef"
      },
      "execution_count": 2,
      "outputs": [
        {
          "output_type": "execute_result",
          "data": {
            "text/plain": [
              "                      address  bathrooms  bedrooms  finishedsqft lastsolddate  \\\n",
              "0            2243 Franklin St        2.0         2          1463     2/5/2016   \n",
              "1      2002 Pacific Ave APT 4        3.5         3          3291    1/22/2016   \n",
              "2  1945 Washington St APT 411        1.0         1           653   12/16/2015   \n",
              "3    1896 Pacific Ave APT 802        2.5         2          2272   12/17/2014   \n",
              "4  1840 Washington St APT 603        1.0         1           837    12/2/2015   \n",
              "\n",
              "   lastsoldprice   latitude   longitude     neighborhood  totalrooms  \\\n",
              "0        1950000  37.795139 -122.425309  Pacific Heights           7   \n",
              "1        4200000  37.794429 -122.428513  Pacific Heights           7   \n",
              "2         665000  37.792472 -122.425281  Pacific Heights           3   \n",
              "3        2735000  37.794706 -122.426347  Pacific Heights           6   \n",
              "4        1050000  37.793212 -122.423744  Pacific Heights           3   \n",
              "\n",
              "       usecode  yearbuilt  zipcode  \n",
              "0  Condominium       1900    94109  \n",
              "1  Condominium       1961    94109  \n",
              "2  Condominium       1987    94109  \n",
              "3  Condominium       1924    94109  \n",
              "4  Condominium       2012    94109  "
            ],
            "text/html": [
              "\n",
              "  <div id=\"df-9d1feef3-c7d2-415a-a68a-f787d2420261\">\n",
              "    <div class=\"colab-df-container\">\n",
              "      <div>\n",
              "<style scoped>\n",
              "    .dataframe tbody tr th:only-of-type {\n",
              "        vertical-align: middle;\n",
              "    }\n",
              "\n",
              "    .dataframe tbody tr th {\n",
              "        vertical-align: top;\n",
              "    }\n",
              "\n",
              "    .dataframe thead th {\n",
              "        text-align: right;\n",
              "    }\n",
              "</style>\n",
              "<table border=\"1\" class=\"dataframe\">\n",
              "  <thead>\n",
              "    <tr style=\"text-align: right;\">\n",
              "      <th></th>\n",
              "      <th>address</th>\n",
              "      <th>bathrooms</th>\n",
              "      <th>bedrooms</th>\n",
              "      <th>finishedsqft</th>\n",
              "      <th>lastsolddate</th>\n",
              "      <th>lastsoldprice</th>\n",
              "      <th>latitude</th>\n",
              "      <th>longitude</th>\n",
              "      <th>neighborhood</th>\n",
              "      <th>totalrooms</th>\n",
              "      <th>usecode</th>\n",
              "      <th>yearbuilt</th>\n",
              "      <th>zipcode</th>\n",
              "    </tr>\n",
              "  </thead>\n",
              "  <tbody>\n",
              "    <tr>\n",
              "      <th>0</th>\n",
              "      <td>2243 Franklin St</td>\n",
              "      <td>2.0</td>\n",
              "      <td>2</td>\n",
              "      <td>1463</td>\n",
              "      <td>2/5/2016</td>\n",
              "      <td>1950000</td>\n",
              "      <td>37.795139</td>\n",
              "      <td>-122.425309</td>\n",
              "      <td>Pacific Heights</td>\n",
              "      <td>7</td>\n",
              "      <td>Condominium</td>\n",
              "      <td>1900</td>\n",
              "      <td>94109</td>\n",
              "    </tr>\n",
              "    <tr>\n",
              "      <th>1</th>\n",
              "      <td>2002 Pacific Ave APT 4</td>\n",
              "      <td>3.5</td>\n",
              "      <td>3</td>\n",
              "      <td>3291</td>\n",
              "      <td>1/22/2016</td>\n",
              "      <td>4200000</td>\n",
              "      <td>37.794429</td>\n",
              "      <td>-122.428513</td>\n",
              "      <td>Pacific Heights</td>\n",
              "      <td>7</td>\n",
              "      <td>Condominium</td>\n",
              "      <td>1961</td>\n",
              "      <td>94109</td>\n",
              "    </tr>\n",
              "    <tr>\n",
              "      <th>2</th>\n",
              "      <td>1945 Washington St APT 411</td>\n",
              "      <td>1.0</td>\n",
              "      <td>1</td>\n",
              "      <td>653</td>\n",
              "      <td>12/16/2015</td>\n",
              "      <td>665000</td>\n",
              "      <td>37.792472</td>\n",
              "      <td>-122.425281</td>\n",
              "      <td>Pacific Heights</td>\n",
              "      <td>3</td>\n",
              "      <td>Condominium</td>\n",
              "      <td>1987</td>\n",
              "      <td>94109</td>\n",
              "    </tr>\n",
              "    <tr>\n",
              "      <th>3</th>\n",
              "      <td>1896 Pacific Ave APT 802</td>\n",
              "      <td>2.5</td>\n",
              "      <td>2</td>\n",
              "      <td>2272</td>\n",
              "      <td>12/17/2014</td>\n",
              "      <td>2735000</td>\n",
              "      <td>37.794706</td>\n",
              "      <td>-122.426347</td>\n",
              "      <td>Pacific Heights</td>\n",
              "      <td>6</td>\n",
              "      <td>Condominium</td>\n",
              "      <td>1924</td>\n",
              "      <td>94109</td>\n",
              "    </tr>\n",
              "    <tr>\n",
              "      <th>4</th>\n",
              "      <td>1840 Washington St APT 603</td>\n",
              "      <td>1.0</td>\n",
              "      <td>1</td>\n",
              "      <td>837</td>\n",
              "      <td>12/2/2015</td>\n",
              "      <td>1050000</td>\n",
              "      <td>37.793212</td>\n",
              "      <td>-122.423744</td>\n",
              "      <td>Pacific Heights</td>\n",
              "      <td>3</td>\n",
              "      <td>Condominium</td>\n",
              "      <td>2012</td>\n",
              "      <td>94109</td>\n",
              "    </tr>\n",
              "  </tbody>\n",
              "</table>\n",
              "</div>\n",
              "      <button class=\"colab-df-convert\" onclick=\"convertToInteractive('df-9d1feef3-c7d2-415a-a68a-f787d2420261')\"\n",
              "              title=\"Convert this dataframe to an interactive table.\"\n",
              "              style=\"display:none;\">\n",
              "        \n",
              "  <svg xmlns=\"http://www.w3.org/2000/svg\" height=\"24px\"viewBox=\"0 0 24 24\"\n",
              "       width=\"24px\">\n",
              "    <path d=\"M0 0h24v24H0V0z\" fill=\"none\"/>\n",
              "    <path d=\"M18.56 5.44l.94 2.06.94-2.06 2.06-.94-2.06-.94-.94-2.06-.94 2.06-2.06.94zm-11 1L8.5 8.5l.94-2.06 2.06-.94-2.06-.94L8.5 2.5l-.94 2.06-2.06.94zm10 10l.94 2.06.94-2.06 2.06-.94-2.06-.94-.94-2.06-.94 2.06-2.06.94z\"/><path d=\"M17.41 7.96l-1.37-1.37c-.4-.4-.92-.59-1.43-.59-.52 0-1.04.2-1.43.59L10.3 9.45l-7.72 7.72c-.78.78-.78 2.05 0 2.83L4 21.41c.39.39.9.59 1.41.59.51 0 1.02-.2 1.41-.59l7.78-7.78 2.81-2.81c.8-.78.8-2.07 0-2.86zM5.41 20L4 18.59l7.72-7.72 1.47 1.35L5.41 20z\"/>\n",
              "  </svg>\n",
              "      </button>\n",
              "      \n",
              "  <style>\n",
              "    .colab-df-container {\n",
              "      display:flex;\n",
              "      flex-wrap:wrap;\n",
              "      gap: 12px;\n",
              "    }\n",
              "\n",
              "    .colab-df-convert {\n",
              "      background-color: #E8F0FE;\n",
              "      border: none;\n",
              "      border-radius: 50%;\n",
              "      cursor: pointer;\n",
              "      display: none;\n",
              "      fill: #1967D2;\n",
              "      height: 32px;\n",
              "      padding: 0 0 0 0;\n",
              "      width: 32px;\n",
              "    }\n",
              "\n",
              "    .colab-df-convert:hover {\n",
              "      background-color: #E2EBFA;\n",
              "      box-shadow: 0px 1px 2px rgba(60, 64, 67, 0.3), 0px 1px 3px 1px rgba(60, 64, 67, 0.15);\n",
              "      fill: #174EA6;\n",
              "    }\n",
              "\n",
              "    [theme=dark] .colab-df-convert {\n",
              "      background-color: #3B4455;\n",
              "      fill: #D2E3FC;\n",
              "    }\n",
              "\n",
              "    [theme=dark] .colab-df-convert:hover {\n",
              "      background-color: #434B5C;\n",
              "      box-shadow: 0px 1px 3px 1px rgba(0, 0, 0, 0.15);\n",
              "      filter: drop-shadow(0px 1px 2px rgba(0, 0, 0, 0.3));\n",
              "      fill: #FFFFFF;\n",
              "    }\n",
              "  </style>\n",
              "\n",
              "      <script>\n",
              "        const buttonEl =\n",
              "          document.querySelector('#df-9d1feef3-c7d2-415a-a68a-f787d2420261 button.colab-df-convert');\n",
              "        buttonEl.style.display =\n",
              "          google.colab.kernel.accessAllowed ? 'block' : 'none';\n",
              "\n",
              "        async function convertToInteractive(key) {\n",
              "          const element = document.querySelector('#df-9d1feef3-c7d2-415a-a68a-f787d2420261');\n",
              "          const dataTable =\n",
              "            await google.colab.kernel.invokeFunction('convertToInteractive',\n",
              "                                                     [key], {});\n",
              "          if (!dataTable) return;\n",
              "\n",
              "          const docLinkHtml = 'Like what you see? Visit the ' +\n",
              "            '<a target=\"_blank\" href=https://colab.research.google.com/notebooks/data_table.ipynb>data table notebook</a>'\n",
              "            + ' to learn more about interactive tables.';\n",
              "          element.innerHTML = '';\n",
              "          dataTable['output_type'] = 'display_data';\n",
              "          await google.colab.output.renderOutput(dataTable, element);\n",
              "          const docLink = document.createElement('div');\n",
              "          docLink.innerHTML = docLinkHtml;\n",
              "          element.appendChild(docLink);\n",
              "        }\n",
              "      </script>\n",
              "    </div>\n",
              "  </div>\n",
              "  "
            ]
          },
          "metadata": {},
          "execution_count": 2
        }
      ]
    },
    {
      "cell_type": "code",
      "source": [
        "df.shape"
      ],
      "metadata": {
        "colab": {
          "base_uri": "https://localhost:8080/"
        },
        "id": "2yu_wvAch1RP",
        "outputId": "7fe54524-af0e-4a8e-c0ea-93e72d618ad4"
      },
      "execution_count": 3,
      "outputs": [
        {
          "output_type": "execute_result",
          "data": {
            "text/plain": [
              "(439, 13)"
            ]
          },
          "metadata": {},
          "execution_count": 3
        }
      ]
    },
    {
      "cell_type": "code",
      "source": [
        "df.info()"
      ],
      "metadata": {
        "colab": {
          "base_uri": "https://localhost:8080/"
        },
        "id": "CabzIFgsrh7C",
        "outputId": "01947c0c-7863-404d-bcf2-901510413c1b"
      },
      "execution_count": 4,
      "outputs": [
        {
          "output_type": "stream",
          "name": "stdout",
          "text": [
            "<class 'pandas.core.frame.DataFrame'>\n",
            "RangeIndex: 439 entries, 0 to 438\n",
            "Data columns (total 13 columns):\n",
            " #   Column         Non-Null Count  Dtype  \n",
            "---  ------         --------------  -----  \n",
            " 0   address        439 non-null    object \n",
            " 1   bathrooms      439 non-null    float64\n",
            " 2   bedrooms       439 non-null    int64  \n",
            " 3   finishedsqft   439 non-null    int64  \n",
            " 4   lastsolddate   439 non-null    object \n",
            " 5   lastsoldprice  439 non-null    int64  \n",
            " 6   latitude       439 non-null    float64\n",
            " 7   longitude      439 non-null    float64\n",
            " 8   neighborhood   439 non-null    object \n",
            " 9   totalrooms     439 non-null    int64  \n",
            " 10  usecode        439 non-null    object \n",
            " 11  yearbuilt      439 non-null    int64  \n",
            " 12  zipcode        439 non-null    int64  \n",
            "dtypes: float64(3), int64(6), object(4)\n",
            "memory usage: 44.7+ KB\n"
          ]
        }
      ]
    },
    {
      "cell_type": "code",
      "source": [
        "corr_matrix= df.corr()\n",
        "corr_matrix\n",
        "#corr_matrix['lastsoldprice'].sort_values(ascending=False)"
      ],
      "metadata": {
        "colab": {
          "base_uri": "https://localhost:8080/",
          "height": 331
        },
        "id": "ajzoztWLrqQx",
        "outputId": "e2619e21-d480-4fb7-aac4-49c74a89e2ff"
      },
      "execution_count": 7,
      "outputs": [
        {
          "output_type": "execute_result",
          "data": {
            "text/plain": [
              "               bathrooms  bedrooms  finishedsqft  lastsoldprice  latitude  \\\n",
              "bathrooms       1.000000  0.711805      0.866909       0.768179  0.094180   \n",
              "bedrooms        0.711805  1.000000      0.752464       0.606579  0.019174   \n",
              "finishedsqft    0.866909  0.752464      1.000000       0.840864  0.092464   \n",
              "lastsoldprice   0.768179  0.606579      0.840864       1.000000  0.126480   \n",
              "latitude        0.094180  0.019174      0.092464       0.126480  1.000000   \n",
              "longitude      -0.248637 -0.289700     -0.310202      -0.309462  0.506881   \n",
              "totalrooms      0.780811  0.781685      0.870899       0.670726  0.023381   \n",
              "yearbuilt      -0.207322 -0.312832     -0.299542      -0.214365  0.084870   \n",
              "zipcode         0.230719  0.274226      0.286176       0.296032  0.158759   \n",
              "\n",
              "               longitude  totalrooms  yearbuilt   zipcode  \n",
              "bathrooms      -0.248637    0.780811  -0.207322  0.230719  \n",
              "bedrooms       -0.289700    0.781685  -0.312832  0.274226  \n",
              "finishedsqft   -0.310202    0.870899  -0.299542  0.286176  \n",
              "lastsoldprice  -0.309462    0.670726  -0.214365  0.296032  \n",
              "latitude        0.506881    0.023381   0.084870  0.158759  \n",
              "longitude       1.000000   -0.308421   0.334563 -0.437948  \n",
              "totalrooms     -0.308421    1.000000  -0.364832  0.266272  \n",
              "yearbuilt       0.334563   -0.364832   1.000000 -0.279990  \n",
              "zipcode        -0.437948    0.266272  -0.279990  1.000000  "
            ],
            "text/html": [
              "\n",
              "  <div id=\"df-f5b818ad-7552-4aa5-b19a-8581dd1e7713\">\n",
              "    <div class=\"colab-df-container\">\n",
              "      <div>\n",
              "<style scoped>\n",
              "    .dataframe tbody tr th:only-of-type {\n",
              "        vertical-align: middle;\n",
              "    }\n",
              "\n",
              "    .dataframe tbody tr th {\n",
              "        vertical-align: top;\n",
              "    }\n",
              "\n",
              "    .dataframe thead th {\n",
              "        text-align: right;\n",
              "    }\n",
              "</style>\n",
              "<table border=\"1\" class=\"dataframe\">\n",
              "  <thead>\n",
              "    <tr style=\"text-align: right;\">\n",
              "      <th></th>\n",
              "      <th>bathrooms</th>\n",
              "      <th>bedrooms</th>\n",
              "      <th>finishedsqft</th>\n",
              "      <th>lastsoldprice</th>\n",
              "      <th>latitude</th>\n",
              "      <th>longitude</th>\n",
              "      <th>totalrooms</th>\n",
              "      <th>yearbuilt</th>\n",
              "      <th>zipcode</th>\n",
              "    </tr>\n",
              "  </thead>\n",
              "  <tbody>\n",
              "    <tr>\n",
              "      <th>bathrooms</th>\n",
              "      <td>1.000000</td>\n",
              "      <td>0.711805</td>\n",
              "      <td>0.866909</td>\n",
              "      <td>0.768179</td>\n",
              "      <td>0.094180</td>\n",
              "      <td>-0.248637</td>\n",
              "      <td>0.780811</td>\n",
              "      <td>-0.207322</td>\n",
              "      <td>0.230719</td>\n",
              "    </tr>\n",
              "    <tr>\n",
              "      <th>bedrooms</th>\n",
              "      <td>0.711805</td>\n",
              "      <td>1.000000</td>\n",
              "      <td>0.752464</td>\n",
              "      <td>0.606579</td>\n",
              "      <td>0.019174</td>\n",
              "      <td>-0.289700</td>\n",
              "      <td>0.781685</td>\n",
              "      <td>-0.312832</td>\n",
              "      <td>0.274226</td>\n",
              "    </tr>\n",
              "    <tr>\n",
              "      <th>finishedsqft</th>\n",
              "      <td>0.866909</td>\n",
              "      <td>0.752464</td>\n",
              "      <td>1.000000</td>\n",
              "      <td>0.840864</td>\n",
              "      <td>0.092464</td>\n",
              "      <td>-0.310202</td>\n",
              "      <td>0.870899</td>\n",
              "      <td>-0.299542</td>\n",
              "      <td>0.286176</td>\n",
              "    </tr>\n",
              "    <tr>\n",
              "      <th>lastsoldprice</th>\n",
              "      <td>0.768179</td>\n",
              "      <td>0.606579</td>\n",
              "      <td>0.840864</td>\n",
              "      <td>1.000000</td>\n",
              "      <td>0.126480</td>\n",
              "      <td>-0.309462</td>\n",
              "      <td>0.670726</td>\n",
              "      <td>-0.214365</td>\n",
              "      <td>0.296032</td>\n",
              "    </tr>\n",
              "    <tr>\n",
              "      <th>latitude</th>\n",
              "      <td>0.094180</td>\n",
              "      <td>0.019174</td>\n",
              "      <td>0.092464</td>\n",
              "      <td>0.126480</td>\n",
              "      <td>1.000000</td>\n",
              "      <td>0.506881</td>\n",
              "      <td>0.023381</td>\n",
              "      <td>0.084870</td>\n",
              "      <td>0.158759</td>\n",
              "    </tr>\n",
              "    <tr>\n",
              "      <th>longitude</th>\n",
              "      <td>-0.248637</td>\n",
              "      <td>-0.289700</td>\n",
              "      <td>-0.310202</td>\n",
              "      <td>-0.309462</td>\n",
              "      <td>0.506881</td>\n",
              "      <td>1.000000</td>\n",
              "      <td>-0.308421</td>\n",
              "      <td>0.334563</td>\n",
              "      <td>-0.437948</td>\n",
              "    </tr>\n",
              "    <tr>\n",
              "      <th>totalrooms</th>\n",
              "      <td>0.780811</td>\n",
              "      <td>0.781685</td>\n",
              "      <td>0.870899</td>\n",
              "      <td>0.670726</td>\n",
              "      <td>0.023381</td>\n",
              "      <td>-0.308421</td>\n",
              "      <td>1.000000</td>\n",
              "      <td>-0.364832</td>\n",
              "      <td>0.266272</td>\n",
              "    </tr>\n",
              "    <tr>\n",
              "      <th>yearbuilt</th>\n",
              "      <td>-0.207322</td>\n",
              "      <td>-0.312832</td>\n",
              "      <td>-0.299542</td>\n",
              "      <td>-0.214365</td>\n",
              "      <td>0.084870</td>\n",
              "      <td>0.334563</td>\n",
              "      <td>-0.364832</td>\n",
              "      <td>1.000000</td>\n",
              "      <td>-0.279990</td>\n",
              "    </tr>\n",
              "    <tr>\n",
              "      <th>zipcode</th>\n",
              "      <td>0.230719</td>\n",
              "      <td>0.274226</td>\n",
              "      <td>0.286176</td>\n",
              "      <td>0.296032</td>\n",
              "      <td>0.158759</td>\n",
              "      <td>-0.437948</td>\n",
              "      <td>0.266272</td>\n",
              "      <td>-0.279990</td>\n",
              "      <td>1.000000</td>\n",
              "    </tr>\n",
              "  </tbody>\n",
              "</table>\n",
              "</div>\n",
              "      <button class=\"colab-df-convert\" onclick=\"convertToInteractive('df-f5b818ad-7552-4aa5-b19a-8581dd1e7713')\"\n",
              "              title=\"Convert this dataframe to an interactive table.\"\n",
              "              style=\"display:none;\">\n",
              "        \n",
              "  <svg xmlns=\"http://www.w3.org/2000/svg\" height=\"24px\"viewBox=\"0 0 24 24\"\n",
              "       width=\"24px\">\n",
              "    <path d=\"M0 0h24v24H0V0z\" fill=\"none\"/>\n",
              "    <path d=\"M18.56 5.44l.94 2.06.94-2.06 2.06-.94-2.06-.94-.94-2.06-.94 2.06-2.06.94zm-11 1L8.5 8.5l.94-2.06 2.06-.94-2.06-.94L8.5 2.5l-.94 2.06-2.06.94zm10 10l.94 2.06.94-2.06 2.06-.94-2.06-.94-.94-2.06-.94 2.06-2.06.94z\"/><path d=\"M17.41 7.96l-1.37-1.37c-.4-.4-.92-.59-1.43-.59-.52 0-1.04.2-1.43.59L10.3 9.45l-7.72 7.72c-.78.78-.78 2.05 0 2.83L4 21.41c.39.39.9.59 1.41.59.51 0 1.02-.2 1.41-.59l7.78-7.78 2.81-2.81c.8-.78.8-2.07 0-2.86zM5.41 20L4 18.59l7.72-7.72 1.47 1.35L5.41 20z\"/>\n",
              "  </svg>\n",
              "      </button>\n",
              "      \n",
              "  <style>\n",
              "    .colab-df-container {\n",
              "      display:flex;\n",
              "      flex-wrap:wrap;\n",
              "      gap: 12px;\n",
              "    }\n",
              "\n",
              "    .colab-df-convert {\n",
              "      background-color: #E8F0FE;\n",
              "      border: none;\n",
              "      border-radius: 50%;\n",
              "      cursor: pointer;\n",
              "      display: none;\n",
              "      fill: #1967D2;\n",
              "      height: 32px;\n",
              "      padding: 0 0 0 0;\n",
              "      width: 32px;\n",
              "    }\n",
              "\n",
              "    .colab-df-convert:hover {\n",
              "      background-color: #E2EBFA;\n",
              "      box-shadow: 0px 1px 2px rgba(60, 64, 67, 0.3), 0px 1px 3px 1px rgba(60, 64, 67, 0.15);\n",
              "      fill: #174EA6;\n",
              "    }\n",
              "\n",
              "    [theme=dark] .colab-df-convert {\n",
              "      background-color: #3B4455;\n",
              "      fill: #D2E3FC;\n",
              "    }\n",
              "\n",
              "    [theme=dark] .colab-df-convert:hover {\n",
              "      background-color: #434B5C;\n",
              "      box-shadow: 0px 1px 3px 1px rgba(0, 0, 0, 0.15);\n",
              "      filter: drop-shadow(0px 1px 2px rgba(0, 0, 0, 0.3));\n",
              "      fill: #FFFFFF;\n",
              "    }\n",
              "  </style>\n",
              "\n",
              "      <script>\n",
              "        const buttonEl =\n",
              "          document.querySelector('#df-f5b818ad-7552-4aa5-b19a-8581dd1e7713 button.colab-df-convert');\n",
              "        buttonEl.style.display =\n",
              "          google.colab.kernel.accessAllowed ? 'block' : 'none';\n",
              "\n",
              "        async function convertToInteractive(key) {\n",
              "          const element = document.querySelector('#df-f5b818ad-7552-4aa5-b19a-8581dd1e7713');\n",
              "          const dataTable =\n",
              "            await google.colab.kernel.invokeFunction('convertToInteractive',\n",
              "                                                     [key], {});\n",
              "          if (!dataTable) return;\n",
              "\n",
              "          const docLinkHtml = 'Like what you see? Visit the ' +\n",
              "            '<a target=\"_blank\" href=https://colab.research.google.com/notebooks/data_table.ipynb>data table notebook</a>'\n",
              "            + ' to learn more about interactive tables.';\n",
              "          element.innerHTML = '';\n",
              "          dataTable['output_type'] = 'display_data';\n",
              "          await google.colab.output.renderOutput(dataTable, element);\n",
              "          const docLink = document.createElement('div');\n",
              "          docLink.innerHTML = docLinkHtml;\n",
              "          element.appendChild(docLink);\n",
              "        }\n",
              "      </script>\n",
              "    </div>\n",
              "  </div>\n",
              "  "
            ]
          },
          "metadata": {},
          "execution_count": 7
        }
      ]
    },
    {
      "cell_type": "markdown",
      "source": [
        "бачимо лінійну кореляцію з наступними факторами \n",
        "finishedsqft,   bathrooms,   totalrooms,    bedrooms   "
      ],
      "metadata": {
        "id": "v47ihSwHsX0e"
      }
    },
    {
      "cell_type": "code",
      "source": [
        "df = df[['bathrooms', 'bedrooms', 'finishedsqft', 'totalrooms', 'usecode', 'zipcode', 'lastsoldprice']]\n",
        "df = pd.get_dummies(df, columns=['usecode', 'zipcode'])\n",
        "df.head()"
      ],
      "metadata": {
        "colab": {
          "base_uri": "https://localhost:8080/",
          "height": 270
        },
        "id": "0iE0NgEOsU1Y",
        "outputId": "89473228-076b-4f90-94d0-8e70cf2f5b6c"
      },
      "execution_count": 8,
      "outputs": [
        {
          "output_type": "execute_result",
          "data": {
            "text/plain": [
              "   bathrooms  bedrooms  finishedsqft  totalrooms  lastsoldprice  \\\n",
              "0        2.0         2          1463           7        1950000   \n",
              "1        3.5         3          3291           7        4200000   \n",
              "2        1.0         1           653           3         665000   \n",
              "3        2.5         2          2272           6        2735000   \n",
              "4        1.0         1           837           3        1050000   \n",
              "\n",
              "   usecode_Condominium  usecode_Cooperative  usecode_Duplex  \\\n",
              "0                    1                    0               0   \n",
              "1                    1                    0               0   \n",
              "2                    1                    0               0   \n",
              "3                    1                    0               0   \n",
              "4                    1                    0               0   \n",
              "\n",
              "   usecode_MultiFamily2To4  usecode_SingleFamily  usecode_Townhouse  \\\n",
              "0                        0                     0                  0   \n",
              "1                        0                     0                  0   \n",
              "2                        0                     0                  0   \n",
              "3                        0                     0                  0   \n",
              "4                        0                     0                  0   \n",
              "\n",
              "   zipcode_94109  zipcode_94115  zipcode_94123  \n",
              "0              1              0              0  \n",
              "1              1              0              0  \n",
              "2              1              0              0  \n",
              "3              1              0              0  \n",
              "4              1              0              0  "
            ],
            "text/html": [
              "\n",
              "  <div id=\"df-a73e31f5-552c-49c6-bad8-99437381dc4a\">\n",
              "    <div class=\"colab-df-container\">\n",
              "      <div>\n",
              "<style scoped>\n",
              "    .dataframe tbody tr th:only-of-type {\n",
              "        vertical-align: middle;\n",
              "    }\n",
              "\n",
              "    .dataframe tbody tr th {\n",
              "        vertical-align: top;\n",
              "    }\n",
              "\n",
              "    .dataframe thead th {\n",
              "        text-align: right;\n",
              "    }\n",
              "</style>\n",
              "<table border=\"1\" class=\"dataframe\">\n",
              "  <thead>\n",
              "    <tr style=\"text-align: right;\">\n",
              "      <th></th>\n",
              "      <th>bathrooms</th>\n",
              "      <th>bedrooms</th>\n",
              "      <th>finishedsqft</th>\n",
              "      <th>totalrooms</th>\n",
              "      <th>lastsoldprice</th>\n",
              "      <th>usecode_Condominium</th>\n",
              "      <th>usecode_Cooperative</th>\n",
              "      <th>usecode_Duplex</th>\n",
              "      <th>usecode_MultiFamily2To4</th>\n",
              "      <th>usecode_SingleFamily</th>\n",
              "      <th>usecode_Townhouse</th>\n",
              "      <th>zipcode_94109</th>\n",
              "      <th>zipcode_94115</th>\n",
              "      <th>zipcode_94123</th>\n",
              "    </tr>\n",
              "  </thead>\n",
              "  <tbody>\n",
              "    <tr>\n",
              "      <th>0</th>\n",
              "      <td>2.0</td>\n",
              "      <td>2</td>\n",
              "      <td>1463</td>\n",
              "      <td>7</td>\n",
              "      <td>1950000</td>\n",
              "      <td>1</td>\n",
              "      <td>0</td>\n",
              "      <td>0</td>\n",
              "      <td>0</td>\n",
              "      <td>0</td>\n",
              "      <td>0</td>\n",
              "      <td>1</td>\n",
              "      <td>0</td>\n",
              "      <td>0</td>\n",
              "    </tr>\n",
              "    <tr>\n",
              "      <th>1</th>\n",
              "      <td>3.5</td>\n",
              "      <td>3</td>\n",
              "      <td>3291</td>\n",
              "      <td>7</td>\n",
              "      <td>4200000</td>\n",
              "      <td>1</td>\n",
              "      <td>0</td>\n",
              "      <td>0</td>\n",
              "      <td>0</td>\n",
              "      <td>0</td>\n",
              "      <td>0</td>\n",
              "      <td>1</td>\n",
              "      <td>0</td>\n",
              "      <td>0</td>\n",
              "    </tr>\n",
              "    <tr>\n",
              "      <th>2</th>\n",
              "      <td>1.0</td>\n",
              "      <td>1</td>\n",
              "      <td>653</td>\n",
              "      <td>3</td>\n",
              "      <td>665000</td>\n",
              "      <td>1</td>\n",
              "      <td>0</td>\n",
              "      <td>0</td>\n",
              "      <td>0</td>\n",
              "      <td>0</td>\n",
              "      <td>0</td>\n",
              "      <td>1</td>\n",
              "      <td>0</td>\n",
              "      <td>0</td>\n",
              "    </tr>\n",
              "    <tr>\n",
              "      <th>3</th>\n",
              "      <td>2.5</td>\n",
              "      <td>2</td>\n",
              "      <td>2272</td>\n",
              "      <td>6</td>\n",
              "      <td>2735000</td>\n",
              "      <td>1</td>\n",
              "      <td>0</td>\n",
              "      <td>0</td>\n",
              "      <td>0</td>\n",
              "      <td>0</td>\n",
              "      <td>0</td>\n",
              "      <td>1</td>\n",
              "      <td>0</td>\n",
              "      <td>0</td>\n",
              "    </tr>\n",
              "    <tr>\n",
              "      <th>4</th>\n",
              "      <td>1.0</td>\n",
              "      <td>1</td>\n",
              "      <td>837</td>\n",
              "      <td>3</td>\n",
              "      <td>1050000</td>\n",
              "      <td>1</td>\n",
              "      <td>0</td>\n",
              "      <td>0</td>\n",
              "      <td>0</td>\n",
              "      <td>0</td>\n",
              "      <td>0</td>\n",
              "      <td>1</td>\n",
              "      <td>0</td>\n",
              "      <td>0</td>\n",
              "    </tr>\n",
              "  </tbody>\n",
              "</table>\n",
              "</div>\n",
              "      <button class=\"colab-df-convert\" onclick=\"convertToInteractive('df-a73e31f5-552c-49c6-bad8-99437381dc4a')\"\n",
              "              title=\"Convert this dataframe to an interactive table.\"\n",
              "              style=\"display:none;\">\n",
              "        \n",
              "  <svg xmlns=\"http://www.w3.org/2000/svg\" height=\"24px\"viewBox=\"0 0 24 24\"\n",
              "       width=\"24px\">\n",
              "    <path d=\"M0 0h24v24H0V0z\" fill=\"none\"/>\n",
              "    <path d=\"M18.56 5.44l.94 2.06.94-2.06 2.06-.94-2.06-.94-.94-2.06-.94 2.06-2.06.94zm-11 1L8.5 8.5l.94-2.06 2.06-.94-2.06-.94L8.5 2.5l-.94 2.06-2.06.94zm10 10l.94 2.06.94-2.06 2.06-.94-2.06-.94-.94-2.06-.94 2.06-2.06.94z\"/><path d=\"M17.41 7.96l-1.37-1.37c-.4-.4-.92-.59-1.43-.59-.52 0-1.04.2-1.43.59L10.3 9.45l-7.72 7.72c-.78.78-.78 2.05 0 2.83L4 21.41c.39.39.9.59 1.41.59.51 0 1.02-.2 1.41-.59l7.78-7.78 2.81-2.81c.8-.78.8-2.07 0-2.86zM5.41 20L4 18.59l7.72-7.72 1.47 1.35L5.41 20z\"/>\n",
              "  </svg>\n",
              "      </button>\n",
              "      \n",
              "  <style>\n",
              "    .colab-df-container {\n",
              "      display:flex;\n",
              "      flex-wrap:wrap;\n",
              "      gap: 12px;\n",
              "    }\n",
              "\n",
              "    .colab-df-convert {\n",
              "      background-color: #E8F0FE;\n",
              "      border: none;\n",
              "      border-radius: 50%;\n",
              "      cursor: pointer;\n",
              "      display: none;\n",
              "      fill: #1967D2;\n",
              "      height: 32px;\n",
              "      padding: 0 0 0 0;\n",
              "      width: 32px;\n",
              "    }\n",
              "\n",
              "    .colab-df-convert:hover {\n",
              "      background-color: #E2EBFA;\n",
              "      box-shadow: 0px 1px 2px rgba(60, 64, 67, 0.3), 0px 1px 3px 1px rgba(60, 64, 67, 0.15);\n",
              "      fill: #174EA6;\n",
              "    }\n",
              "\n",
              "    [theme=dark] .colab-df-convert {\n",
              "      background-color: #3B4455;\n",
              "      fill: #D2E3FC;\n",
              "    }\n",
              "\n",
              "    [theme=dark] .colab-df-convert:hover {\n",
              "      background-color: #434B5C;\n",
              "      box-shadow: 0px 1px 3px 1px rgba(0, 0, 0, 0.15);\n",
              "      filter: drop-shadow(0px 1px 2px rgba(0, 0, 0, 0.3));\n",
              "      fill: #FFFFFF;\n",
              "    }\n",
              "  </style>\n",
              "\n",
              "      <script>\n",
              "        const buttonEl =\n",
              "          document.querySelector('#df-a73e31f5-552c-49c6-bad8-99437381dc4a button.colab-df-convert');\n",
              "        buttonEl.style.display =\n",
              "          google.colab.kernel.accessAllowed ? 'block' : 'none';\n",
              "\n",
              "        async function convertToInteractive(key) {\n",
              "          const element = document.querySelector('#df-a73e31f5-552c-49c6-bad8-99437381dc4a');\n",
              "          const dataTable =\n",
              "            await google.colab.kernel.invokeFunction('convertToInteractive',\n",
              "                                                     [key], {});\n",
              "          if (!dataTable) return;\n",
              "\n",
              "          const docLinkHtml = 'Like what you see? Visit the ' +\n",
              "            '<a target=\"_blank\" href=https://colab.research.google.com/notebooks/data_table.ipynb>data table notebook</a>'\n",
              "            + ' to learn more about interactive tables.';\n",
              "          element.innerHTML = '';\n",
              "          dataTable['output_type'] = 'display_data';\n",
              "          await google.colab.output.renderOutput(dataTable, element);\n",
              "          const docLink = document.createElement('div');\n",
              "          docLink.innerHTML = docLinkHtml;\n",
              "          element.appendChild(docLink);\n",
              "        }\n",
              "      </script>\n",
              "    </div>\n",
              "  </div>\n",
              "  "
            ]
          },
          "metadata": {},
          "execution_count": 8
        }
      ]
    },
    {
      "cell_type": "markdown",
      "source": [
        "Перевірка змінних на відповідність нормальному закону розподілу за тестом Шапіро-Уілкса"
      ],
      "metadata": {
        "id": "riN9IlVyvg1w"
      }
    },
    {
      "cell_type": "code",
      "source": [
        "import scipy\n",
        "stat, p = scipy.stats.shapiro(df['lastsoldprice']) \n",
        "print('Statistics=%.3f, p-value=%.3f' % (stat, p))\n",
        "stat, p = scipy.stats.shapiro(df['finishedsqft']) \n",
        "print('Statistics=%.3f, p-value=%.3f' % (stat, p))"
      ],
      "metadata": {
        "colab": {
          "base_uri": "https://localhost:8080/"
        },
        "id": "VPRpFtaPveEI",
        "outputId": "bec88886-e96f-460b-d8e3-39b5c7d7c4f0"
      },
      "execution_count": 9,
      "outputs": [
        {
          "output_type": "stream",
          "name": "stdout",
          "text": [
            "Statistics=0.655, p-value=0.000\n",
            "Statistics=0.747, p-value=0.000\n"
          ]
        }
      ]
    },
    {
      "cell_type": "code",
      "source": [
        "df['finishedsqft'].corr(df['lastsoldprice'], method='spearman')"
      ],
      "metadata": {
        "colab": {
          "base_uri": "https://localhost:8080/"
        },
        "id": "vY_fGODvz109",
        "outputId": "8f400832-93c6-466b-dc06-85a57994a93e"
      },
      "execution_count": 10,
      "outputs": [
        {
          "output_type": "execute_result",
          "data": {
            "text/plain": [
              "0.8929910216747009"
            ]
          },
          "metadata": {},
          "execution_count": 10
        }
      ]
    },
    {
      "cell_type": "code",
      "source": [
        "corr_matrix= df.corr(method='spearman')\n",
        "corr_matrix['lastsoldprice'].sort_values(ascending=False)"
      ],
      "metadata": {
        "colab": {
          "base_uri": "https://localhost:8080/"
        },
        "id": "cdX5oOJos7Io",
        "outputId": "2b57e4b0-09ea-4ecb-b017-144376ac8fd0"
      },
      "execution_count": 11,
      "outputs": [
        {
          "output_type": "execute_result",
          "data": {
            "text/plain": [
              "lastsoldprice              1.000000\n",
              "finishedsqft               0.892991\n",
              "totalrooms                 0.844544\n",
              "bedrooms                   0.831959\n",
              "bathrooms                  0.808215\n",
              "usecode_SingleFamily       0.588875\n",
              "zipcode_94123              0.255782\n",
              "zipcode_94115              0.146984\n",
              "usecode_MultiFamily2To4    0.020118\n",
              "usecode_Duplex            -0.011478\n",
              "usecode_Townhouse         -0.034877\n",
              "usecode_Cooperative       -0.035820\n",
              "zipcode_94109             -0.345002\n",
              "usecode_Condominium       -0.560659\n",
              "Name: lastsoldprice, dtype: float64"
            ]
          },
          "metadata": {},
          "execution_count": 11
        }
      ]
    },
    {
      "cell_type": "markdown",
      "source": [
        "usecode_Condominium також досить сильно впливає на ціну квартири"
      ],
      "metadata": {
        "id": "IdbSeBF8tHgg"
      }
    },
    {
      "cell_type": "code",
      "source": [
        "df = df.drop(['usecode_Duplex', 'usecode_MultiFamily2To4', 'usecode_Townhouse', 'usecode_Cooperative','zipcode_94123','zipcode_94115'], axis=1)\n",
        "df.head()"
      ],
      "metadata": {
        "colab": {
          "base_uri": "https://localhost:8080/",
          "height": 206
        },
        "id": "b7VmuXn-tNCP",
        "outputId": "07e1cd37-e913-48f1-9e82-c4cb5741a3f5"
      },
      "execution_count": 12,
      "outputs": [
        {
          "output_type": "execute_result",
          "data": {
            "text/plain": [
              "   bathrooms  bedrooms  finishedsqft  totalrooms  lastsoldprice  \\\n",
              "0        2.0         2          1463           7        1950000   \n",
              "1        3.5         3          3291           7        4200000   \n",
              "2        1.0         1           653           3         665000   \n",
              "3        2.5         2          2272           6        2735000   \n",
              "4        1.0         1           837           3        1050000   \n",
              "\n",
              "   usecode_Condominium  usecode_SingleFamily  zipcode_94109  \n",
              "0                    1                     0              1  \n",
              "1                    1                     0              1  \n",
              "2                    1                     0              1  \n",
              "3                    1                     0              1  \n",
              "4                    1                     0              1  "
            ],
            "text/html": [
              "\n",
              "  <div id=\"df-59d1a910-fb56-470a-ad30-a18eadb9c549\">\n",
              "    <div class=\"colab-df-container\">\n",
              "      <div>\n",
              "<style scoped>\n",
              "    .dataframe tbody tr th:only-of-type {\n",
              "        vertical-align: middle;\n",
              "    }\n",
              "\n",
              "    .dataframe tbody tr th {\n",
              "        vertical-align: top;\n",
              "    }\n",
              "\n",
              "    .dataframe thead th {\n",
              "        text-align: right;\n",
              "    }\n",
              "</style>\n",
              "<table border=\"1\" class=\"dataframe\">\n",
              "  <thead>\n",
              "    <tr style=\"text-align: right;\">\n",
              "      <th></th>\n",
              "      <th>bathrooms</th>\n",
              "      <th>bedrooms</th>\n",
              "      <th>finishedsqft</th>\n",
              "      <th>totalrooms</th>\n",
              "      <th>lastsoldprice</th>\n",
              "      <th>usecode_Condominium</th>\n",
              "      <th>usecode_SingleFamily</th>\n",
              "      <th>zipcode_94109</th>\n",
              "    </tr>\n",
              "  </thead>\n",
              "  <tbody>\n",
              "    <tr>\n",
              "      <th>0</th>\n",
              "      <td>2.0</td>\n",
              "      <td>2</td>\n",
              "      <td>1463</td>\n",
              "      <td>7</td>\n",
              "      <td>1950000</td>\n",
              "      <td>1</td>\n",
              "      <td>0</td>\n",
              "      <td>1</td>\n",
              "    </tr>\n",
              "    <tr>\n",
              "      <th>1</th>\n",
              "      <td>3.5</td>\n",
              "      <td>3</td>\n",
              "      <td>3291</td>\n",
              "      <td>7</td>\n",
              "      <td>4200000</td>\n",
              "      <td>1</td>\n",
              "      <td>0</td>\n",
              "      <td>1</td>\n",
              "    </tr>\n",
              "    <tr>\n",
              "      <th>2</th>\n",
              "      <td>1.0</td>\n",
              "      <td>1</td>\n",
              "      <td>653</td>\n",
              "      <td>3</td>\n",
              "      <td>665000</td>\n",
              "      <td>1</td>\n",
              "      <td>0</td>\n",
              "      <td>1</td>\n",
              "    </tr>\n",
              "    <tr>\n",
              "      <th>3</th>\n",
              "      <td>2.5</td>\n",
              "      <td>2</td>\n",
              "      <td>2272</td>\n",
              "      <td>6</td>\n",
              "      <td>2735000</td>\n",
              "      <td>1</td>\n",
              "      <td>0</td>\n",
              "      <td>1</td>\n",
              "    </tr>\n",
              "    <tr>\n",
              "      <th>4</th>\n",
              "      <td>1.0</td>\n",
              "      <td>1</td>\n",
              "      <td>837</td>\n",
              "      <td>3</td>\n",
              "      <td>1050000</td>\n",
              "      <td>1</td>\n",
              "      <td>0</td>\n",
              "      <td>1</td>\n",
              "    </tr>\n",
              "  </tbody>\n",
              "</table>\n",
              "</div>\n",
              "      <button class=\"colab-df-convert\" onclick=\"convertToInteractive('df-59d1a910-fb56-470a-ad30-a18eadb9c549')\"\n",
              "              title=\"Convert this dataframe to an interactive table.\"\n",
              "              style=\"display:none;\">\n",
              "        \n",
              "  <svg xmlns=\"http://www.w3.org/2000/svg\" height=\"24px\"viewBox=\"0 0 24 24\"\n",
              "       width=\"24px\">\n",
              "    <path d=\"M0 0h24v24H0V0z\" fill=\"none\"/>\n",
              "    <path d=\"M18.56 5.44l.94 2.06.94-2.06 2.06-.94-2.06-.94-.94-2.06-.94 2.06-2.06.94zm-11 1L8.5 8.5l.94-2.06 2.06-.94-2.06-.94L8.5 2.5l-.94 2.06-2.06.94zm10 10l.94 2.06.94-2.06 2.06-.94-2.06-.94-.94-2.06-.94 2.06-2.06.94z\"/><path d=\"M17.41 7.96l-1.37-1.37c-.4-.4-.92-.59-1.43-.59-.52 0-1.04.2-1.43.59L10.3 9.45l-7.72 7.72c-.78.78-.78 2.05 0 2.83L4 21.41c.39.39.9.59 1.41.59.51 0 1.02-.2 1.41-.59l7.78-7.78 2.81-2.81c.8-.78.8-2.07 0-2.86zM5.41 20L4 18.59l7.72-7.72 1.47 1.35L5.41 20z\"/>\n",
              "  </svg>\n",
              "      </button>\n",
              "      \n",
              "  <style>\n",
              "    .colab-df-container {\n",
              "      display:flex;\n",
              "      flex-wrap:wrap;\n",
              "      gap: 12px;\n",
              "    }\n",
              "\n",
              "    .colab-df-convert {\n",
              "      background-color: #E8F0FE;\n",
              "      border: none;\n",
              "      border-radius: 50%;\n",
              "      cursor: pointer;\n",
              "      display: none;\n",
              "      fill: #1967D2;\n",
              "      height: 32px;\n",
              "      padding: 0 0 0 0;\n",
              "      width: 32px;\n",
              "    }\n",
              "\n",
              "    .colab-df-convert:hover {\n",
              "      background-color: #E2EBFA;\n",
              "      box-shadow: 0px 1px 2px rgba(60, 64, 67, 0.3), 0px 1px 3px 1px rgba(60, 64, 67, 0.15);\n",
              "      fill: #174EA6;\n",
              "    }\n",
              "\n",
              "    [theme=dark] .colab-df-convert {\n",
              "      background-color: #3B4455;\n",
              "      fill: #D2E3FC;\n",
              "    }\n",
              "\n",
              "    [theme=dark] .colab-df-convert:hover {\n",
              "      background-color: #434B5C;\n",
              "      box-shadow: 0px 1px 3px 1px rgba(0, 0, 0, 0.15);\n",
              "      filter: drop-shadow(0px 1px 2px rgba(0, 0, 0, 0.3));\n",
              "      fill: #FFFFFF;\n",
              "    }\n",
              "  </style>\n",
              "\n",
              "      <script>\n",
              "        const buttonEl =\n",
              "          document.querySelector('#df-59d1a910-fb56-470a-ad30-a18eadb9c549 button.colab-df-convert');\n",
              "        buttonEl.style.display =\n",
              "          google.colab.kernel.accessAllowed ? 'block' : 'none';\n",
              "\n",
              "        async function convertToInteractive(key) {\n",
              "          const element = document.querySelector('#df-59d1a910-fb56-470a-ad30-a18eadb9c549');\n",
              "          const dataTable =\n",
              "            await google.colab.kernel.invokeFunction('convertToInteractive',\n",
              "                                                     [key], {});\n",
              "          if (!dataTable) return;\n",
              "\n",
              "          const docLinkHtml = 'Like what you see? Visit the ' +\n",
              "            '<a target=\"_blank\" href=https://colab.research.google.com/notebooks/data_table.ipynb>data table notebook</a>'\n",
              "            + ' to learn more about interactive tables.';\n",
              "          element.innerHTML = '';\n",
              "          dataTable['output_type'] = 'display_data';\n",
              "          await google.colab.output.renderOutput(dataTable, element);\n",
              "          const docLink = document.createElement('div');\n",
              "          docLink.innerHTML = docLinkHtml;\n",
              "          element.appendChild(docLink);\n",
              "        }\n",
              "      </script>\n",
              "    </div>\n",
              "  </div>\n",
              "  "
            ]
          },
          "metadata": {},
          "execution_count": 12
        }
      ]
    },
    {
      "cell_type": "markdown",
      "source": [
        "Будуємо діаграму розсіювання"
      ],
      "metadata": {
        "id": "ddL97AaTvMb6"
      }
    },
    {
      "cell_type": "code",
      "source": [
        "x = df['finishedsqft']\n",
        "y = df['lastsoldprice']\n",
        "\n",
        "plt.scatter(x, y)\n",
        "plt.xlabel('Square footage')\n",
        "plt.ylabel('Price of apartments')"
      ],
      "metadata": {
        "colab": {
          "base_uri": "https://localhost:8080/",
          "height": 314
        },
        "id": "EgKpqaj5t4Tn",
        "outputId": "1c92d30c-14ad-4644-fb9c-b08a0c88d356"
      },
      "execution_count": 13,
      "outputs": [
        {
          "output_type": "execute_result",
          "data": {
            "text/plain": [
              "Text(0, 0.5, 'Price of apartments')"
            ]
          },
          "metadata": {},
          "execution_count": 13
        },
        {
          "output_type": "display_data",
          "data": {
            "text/plain": [
              "<Figure size 432x288 with 1 Axes>"
            ],
            "image/png": "[encoded data removed]"
          },
          "metadata": {
            "needs_background": "light"
          }
        }
      ]
    },
    {
      "cell_type": "markdown",
      "source": [
        "Використовуємо пакет pairplot для візуалізації зв'язків"
      ],
      "metadata": {
        "id": "rgBYhKxwtY25"
      }
    },
    {
      "cell_type": "code",
      "source": [
        "sns.pairplot(df[['bathrooms', 'bedrooms', 'finishedsqft', 'totalrooms', 'lastsoldprice']])"
      ],
      "metadata": {
        "colab": {
          "base_uri": "https://localhost:8080/",
          "height": 920
        },
        "id": "zF8-ibTCtU5h",
        "outputId": "23676459-c970-4176-83f5-434b33ad386d"
      },
      "execution_count": 14,
      "outputs": [
        {
          "output_type": "execute_result",
          "data": {
            "text/plain": [
              "<seaborn.axisgrid.PairGrid at 0x7f8dba04a750>"
            ]
          },
          "metadata": {},
          "execution_count": 14
        },
        {
          "output_type": "display_data",
          "data": {
            "text/plain": [
              "<Figure size 900x900 with 30 Axes>"
            ],
            "image/png": "[encoded data removed]"
          },
          "metadata": {
            "needs_background": "light"
          }
        }
      ]
    },
    {
      "cell_type": "markdown",
      "source": [
        "Між незалежною і залежною змінною існує лінійний зв’язок, тому можна розрахувати коефіцієнти поостої лінійної регресії k і b. Шукаємо залежність у вигляді y=kx+b."
      ],
      "metadata": {
        "id": "SSYqSc-cby4E"
      }
    },
    {
      "cell_type": "code",
      "source": [
        "from sklearn.linear_model import LinearRegression\n",
        "x = df[['finishedsqft']]\n",
        "y = df[['lastsoldprice']]\n",
        "model = LinearRegression()\n",
        "model.fit(x,y)"
      ],
      "metadata": {
        "colab": {
          "base_uri": "https://localhost:8080/"
        },
        "id": "ici-DChueBzU",
        "outputId": "2af0df0b-3c91-4ae6-cc82-a92e9e44b998"
      },
      "execution_count": 15,
      "outputs": [
        {
          "output_type": "execute_result",
          "data": {
            "text/plain": [
              "LinearRegression()"
            ]
          },
          "metadata": {},
          "execution_count": 15
        }
      ]
    },
    {
      "cell_type": "code",
      "source": [
        "k = model.coef_[0][0]\n",
        "b = model.intercept_[0]\n",
        "print('y = ' + str(round(k,2)) + 'x + ' + str(round(b,2)))"
      ],
      "metadata": {
        "colab": {
          "base_uri": "https://localhost:8080/"
        },
        "id": "W1Keuf7vebid",
        "outputId": "9b332cef-c4af-482a-ace2-0c694dba7b0c"
      },
      "execution_count": 16,
      "outputs": [
        {
          "output_type": "stream",
          "name": "stdout",
          "text": [
            "y = 1342.33x + -356825.87\n"
          ]
        }
      ]
    },
    {
      "cell_type": "code",
      "source": [
        "y_predict=model.predict(x)"
      ],
      "metadata": {
        "id": "CTYNuQx8hDYb"
      },
      "execution_count": 17,
      "outputs": []
    },
    {
      "cell_type": "code",
      "source": [
        "plt.scatter(x, y)\n",
        "plt.plot(x, y_predict, color='r')\n",
        "plt.xlabel('Square footage')\n",
        "plt.ylabel('Price of apartments')\n"
      ],
      "metadata": {
        "colab": {
          "base_uri": "https://localhost:8080/",
          "height": 314
        },
        "id": "PcvIfu4tiezI",
        "outputId": "5909f16c-97d4-460e-8378-048bdb6d61b9"
      },
      "execution_count": 18,
      "outputs": [
        {
          "output_type": "execute_result",
          "data": {
            "text/plain": [
              "Text(0, 0.5, 'Price of apartments')"
            ]
          },
          "metadata": {},
          "execution_count": 18
        },
        {
          "output_type": "display_data",
          "data": {
            "text/plain": [
              "<Figure size 432x288 with 1 Axes>"
            ],
            "image/png": "[encoded data removed]"
          },
          "metadata": {
            "needs_background": "light"
          }
        }
      ]
    },
    {
      "cell_type": "markdown",
      "source": [
        "Коефіцієнт детермінації R2 для простої моделі регресії"
      ],
      "metadata": {
        "id": "ihZh67qYoDE3"
      }
    },
    {
      "cell_type": "code",
      "source": [
        "model.score(x, y)"
      ],
      "metadata": {
        "colab": {
          "base_uri": "https://localhost:8080/"
        },
        "id": "exgdyWAJhZcb",
        "outputId": "60085c49-652b-40b6-b611-3c41f4cfe772"
      },
      "execution_count": 19,
      "outputs": [
        {
          "output_type": "execute_result",
          "data": {
            "text/plain": [
              "0.7070524662549452"
            ]
          },
          "metadata": {},
          "execution_count": 19
        }
      ]
    },
    {
      "cell_type": "markdown",
      "source": [
        "Множинна лінійна регресія"
      ],
      "metadata": {
        "id": "1K2OTBa5n9xh"
      }
    },
    {
      "cell_type": "code",
      "source": [
        "from sklearn.linear_model import LinearRegression\n",
        "from sklearn.model_selection import train_test_split\n",
        "\n",
        "x = df.drop('lastsoldprice', axis=1)\n",
        "y = df['lastsoldprice']\n",
        "x_train, x_test, y_train, y_test = train_test_split(x, y, test_size=0.4, random_state=0)\n",
        "\n",
        "model = LinearRegression()\n",
        "model.fit(x_train, y_train)"
      ],
      "metadata": {
        "colab": {
          "base_uri": "https://localhost:8080/"
        },
        "id": "JRfbNkjHnIP0",
        "outputId": "02d19949-b003-4fc3-aa1d-084e6a1d5ae7"
      },
      "execution_count": 20,
      "outputs": [
        {
          "output_type": "execute_result",
          "data": {
            "text/plain": [
              "LinearRegression()"
            ]
          },
          "metadata": {},
          "execution_count": 20
        }
      ]
    },
    {
      "cell_type": "markdown",
      "source": [
        "Коефіцієнт детермінації R2 для множинної моделі лінійної регресії"
      ],
      "metadata": {
        "id": "6PmNqxERn12o"
      }
    },
    {
      "cell_type": "code",
      "source": [
        "print(model.score(x_train, y_train))\n",
        "print(model.score(x_test, y_test))"
      ],
      "metadata": {
        "colab": {
          "base_uri": "https://localhost:8080/"
        },
        "id": "PDvCSsh-nxlY",
        "outputId": "e955f2e0-4adc-4d20-ea0d-f59a1c166c1d"
      },
      "execution_count": 21,
      "outputs": [
        {
          "output_type": "stream",
          "name": "stdout",
          "text": [
            "0.7448219529979705\n",
            "0.7310610435642153\n"
          ]
        }
      ]
    },
    {
      "cell_type": "code",
      "source": [
        "from sklearn.model_selection import cross_val_score\n",
        "cross_val_score(model, x_train, y_train, cv=10).mean()"
      ],
      "metadata": {
        "colab": {
          "base_uri": "https://localhost:8080/"
        },
        "id": "DvPdAk31s-2x",
        "outputId": "354f902a-16cd-45f7-f420-b8e91f19fa67"
      },
      "execution_count": 22,
      "outputs": [
        {
          "output_type": "execute_result",
          "data": {
            "text/plain": [
              "0.5420876222501466"
            ]
          },
          "metadata": {},
          "execution_count": 22
        }
      ]
    },
    {
      "cell_type": "markdown",
      "source": [
        "Ви можете відносно легко реалізувати лінійну регресію в Python, використовуючи також пакет statsmodels. Як правило, це бажано, коли є потреба в більш детальних результатах."
      ],
      "metadata": {
        "id": "qcAKAwxZ1z11"
      }
    },
    {
      "cell_type": "code",
      "source": [
        "import statsmodels.api as sm"
      ],
      "metadata": {
        "colab": {
          "base_uri": "https://localhost:8080/"
        },
        "id": "vHspBS-e1OpU",
        "outputId": "850174e4-8f70-4717-b038-7dd03ef3b9b9"
      },
      "execution_count": 23,
      "outputs": [
        {
          "output_type": "stream",
          "name": "stderr",
          "text": [
            "/usr/local/lib/python3.7/dist-packages/statsmodels/tools/_testing.py:19: FutureWarning: pandas.util.testing is deprecated. Use the functions in the public API at pandas.testing instead.\n",
            "  import pandas.util.testing as tm\n"
          ]
        }
      ]
    },
    {
      "cell_type": "code",
      "source": [
        "model_new = sm.OLS(y_train, x_train)\n",
        "results = model_new.fit()"
      ],
      "metadata": {
        "id": "3I0fAr921Q3V"
      },
      "execution_count": 24,
      "outputs": []
    },
    {
      "cell_type": "code",
      "source": [
        "print(results.summary())"
      ],
      "metadata": {
        "colab": {
          "base_uri": "https://localhost:8080/"
        },
        "id": "V8lU4JER1aXx",
        "outputId": "e5ac53d1-9857-4c95-e35e-850521aab278"
      },
      "execution_count": 25,
      "outputs": [
        {
          "output_type": "stream",
          "name": "stdout",
          "text": [
            "                                 OLS Regression Results                                \n",
            "=======================================================================================\n",
            "Dep. Variable:          lastsoldprice   R-squared (uncentered):                   0.859\n",
            "Model:                            OLS   Adj. R-squared (uncentered):              0.855\n",
            "Method:                 Least Squares   F-statistic:                              222.5\n",
            "Date:                Mon, 11 Apr 2022   Prob (F-statistic):                   5.75e-105\n",
            "Time:                        07:46:41   Log-Likelihood:                         -4078.8\n",
            "No. Observations:                 263   AIC:                                      8172.\n",
            "Df Residuals:                     256   BIC:                                      8197.\n",
            "Df Model:                           7                                                  \n",
            "Covariance Type:            nonrobust                                                  \n",
            "========================================================================================\n",
            "                           coef    std err          t      P>|t|      [0.025      0.975]\n",
            "----------------------------------------------------------------------------------------\n",
            "bathrooms             1.818e+05   1.13e+05      1.612      0.108   -4.02e+04    4.04e+05\n",
            "bedrooms             -1.309e+05   1.22e+05     -1.077      0.283    -3.7e+05    1.09e+05\n",
            "finishedsqft          1359.4128    122.427     11.104      0.000    1118.321    1600.504\n",
            "totalrooms           -1.219e+05   5.04e+04     -2.418      0.016   -2.21e+05   -2.26e+04\n",
            "usecode_Condominium   2.153e+05   1.79e+05      1.203      0.230   -1.37e+05    5.68e+05\n",
            "usecode_SingleFamily  8.386e+05   3.12e+05      2.684      0.008    2.23e+05    1.45e+06\n",
            "zipcode_94109        -4.308e+05   1.83e+05     -2.348      0.020   -7.92e+05   -6.95e+04\n",
            "==============================================================================\n",
            "Omnibus:                      247.678   Durbin-Watson:                   2.015\n",
            "Prob(Omnibus):                  0.000   Jarque-Bera (JB):            10812.398\n",
            "Skew:                           3.515   Prob(JB):                         0.00\n",
            "Kurtosis:                      33.615   Cond. No.                     1.11e+04\n",
            "==============================================================================\n",
            "\n",
            "Warnings:\n",
            "[1] Standard Errors assume that the covariance matrix of the errors is correctly specified.\n",
            "[2] The condition number is large, 1.11e+04. This might indicate that there are\n",
            "strong multicollinearity or other numerical problems.\n"
          ]
        }
      ]
    },
    {
      "cell_type": "code",
      "source": [
        "results.resid"
      ],
      "metadata": {
        "colab": {
          "base_uri": "https://localhost:8080/"
        },
        "id": "x7MRfYTJ4Wvh",
        "outputId": "ce27e791-1e75-4338-f415-67446a927a1d"
      },
      "execution_count": 26,
      "outputs": [
        {
          "output_type": "execute_result",
          "data": {
            "text/plain": [
              "168    323529.189453\n",
              "365    -71293.010352\n",
              "120    -37948.403320\n",
              "296   -367757.477589\n",
              "112   -550323.366712\n",
              "           ...      \n",
              "323   -413387.972439\n",
              "192   -279429.924071\n",
              "117   -157435.997690\n",
              "47    -130675.831513\n",
              "172    977343.927173\n",
              "Length: 263, dtype: float64"
            ]
          },
          "metadata": {},
          "execution_count": 26
        }
      ]
    },
    {
      "cell_type": "code",
      "source": [
        "# create a DataFrame of predicted values and residuals\n",
        "df[\"predicted\"] = results.predict(x)\n",
        "df[\"residuals\"] = results.resid\n",
        "sns.scatterplot(data=df, x=\"predicted\", y=\"residuals\")\n",
        "plt.axhline(y=0)"
      ],
      "metadata": {
        "colab": {
          "base_uri": "https://localhost:8080/",
          "height": 314
        },
        "id": "UXuX1pP3l7ob",
        "outputId": "4456b91e-702d-4db5-cef0-f0277a598377"
      },
      "execution_count": 27,
      "outputs": [
        {
          "output_type": "execute_result",
          "data": {
            "text/plain": [
              "<matplotlib.lines.Line2D at 0x7f8da2d47e10>"
            ]
          },
          "metadata": {},
          "execution_count": 27
        },
        {
          "output_type": "display_data",
          "data": {
            "text/plain": [
              "<Figure size 432x288 with 1 Axes>"
            ],
            "image/png": "[encoded data removed]"
          },
          "metadata": {
            "needs_background": "light"
          }
        }
      ]
    }
  ]
}